{
 "cells": [
  {
   "cell_type": "code",
   "execution_count": 1,
   "metadata": {},
   "outputs": [
    {
     "name": "stdout",
     "output_type": "stream",
     "text": [
      "Collecting tensorflow==2.10.0\n",
      "  Downloading tensorflow-2.10.0-cp310-cp310-macosx_10_14_x86_64.whl (241.2 MB)\n",
      "\u001b[2K     \u001b[90m━━━━━━━━━━━━━━━━━━━━━━━━━━━━━━━━━━━━━━━\u001b[0m \u001b[32m241.2/241.2 MB\u001b[0m \u001b[31m3.1 MB/s\u001b[0m eta \u001b[36m0:00:00\u001b[0m00:01\u001b[0m00:02\u001b[0m\n",
      "\u001b[?25hCollecting numpy==1.22\n",
      "  Downloading numpy-1.22.0-cp310-cp310-macosx_10_9_x86_64.whl (17.7 MB)\n",
      "\u001b[2K     \u001b[90m━━━━━━━━━━━━━━━━━━━━━━━━━━━━━━━━━━━━━━━━\u001b[0m \u001b[32m17.7/17.7 MB\u001b[0m \u001b[31m5.1 MB/s\u001b[0m eta \u001b[36m0:00:00\u001b[0m00:01\u001b[0m00:01\u001b[0m\n",
      "\u001b[?25hCollecting termcolor>=1.1.0\n",
      "  Downloading termcolor-2.4.0-py3-none-any.whl (7.7 kB)\n",
      "Requirement already satisfied: packaging in /Users/hyakuzukamaya/opt/anaconda3/envs/tf/lib/python3.10/site-packages (from tensorflow==2.10.0) (24.1)\n",
      "Requirement already satisfied: setuptools in /Users/hyakuzukamaya/opt/anaconda3/envs/tf/lib/python3.10/site-packages (from tensorflow==2.10.0) (65.6.3)\n",
      "Collecting gast<=0.4.0,>=0.2.1\n",
      "  Using cached gast-0.4.0-py3-none-any.whl (9.8 kB)\n",
      "Collecting grpcio<2.0,>=1.24.3\n",
      "  Downloading grpcio-1.64.1.tar.gz (12.2 MB)\n",
      "\u001b[2K     \u001b[90m━━━━━━━━━━━━━━━━━━━━━━━━━━━━━━━━━━━━━━━━\u001b[0m \u001b[32m12.2/12.2 MB\u001b[0m \u001b[31m37.0 MB/s\u001b[0m eta \u001b[36m0:00:00\u001b[0ma \u001b[36m0:00:01\u001b[0m\n",
      "\u001b[?25h  Preparing metadata (setup.py) ... \u001b[?25ldone\n",
      "\u001b[?25hCollecting h5py>=2.9.0\n",
      "  Downloading h5py-3.11.0-cp310-cp310-macosx_10_9_x86_64.whl (3.5 MB)\n",
      "\u001b[2K     \u001b[90m━━━━━━━━━━━━━━━━━━━━━━━━━━━━━━━━━━━━━━━━\u001b[0m \u001b[32m3.5/3.5 MB\u001b[0m \u001b[31m46.5 MB/s\u001b[0m eta \u001b[36m0:00:00\u001b[0ma \u001b[36m0:00:01\u001b[0m\n",
      "\u001b[?25hRequirement already satisfied: typing-extensions>=3.6.6 in /Users/hyakuzukamaya/opt/anaconda3/envs/tf/lib/python3.10/site-packages (from tensorflow==2.10.0) (4.12.2)\n",
      "Collecting google-pasta>=0.1.1\n",
      "  Using cached google_pasta-0.2.0-py3-none-any.whl (57 kB)\n",
      "Collecting protobuf<3.20,>=3.9.2\n",
      "  Using cached protobuf-3.19.6-py2.py3-none-any.whl (162 kB)\n",
      "Collecting keras<2.11,>=2.10.0\n",
      "  Downloading keras-2.10.0-py2.py3-none-any.whl (1.7 MB)\n",
      "\u001b[2K     \u001b[90m━━━━━━━━━━━━━━━━━━━━━━━━━━━━━━━━━━━━━━━━\u001b[0m \u001b[32m1.7/1.7 MB\u001b[0m \u001b[31m43.8 MB/s\u001b[0m eta \u001b[36m0:00:00\u001b[0m00:01\u001b[0m\n",
      "\u001b[?25hCollecting tensorflow-estimator<2.11,>=2.10.0\n",
      "  Downloading tensorflow_estimator-2.10.0-py2.py3-none-any.whl (438 kB)\n",
      "\u001b[2K     \u001b[90m━━━━━━━━━━━━━━━━━━━━━━━━━━━━━━━━━━━━━━\u001b[0m \u001b[32m438.7/438.7 kB\u001b[0m \u001b[31m22.9 MB/s\u001b[0m eta \u001b[36m0:00:00\u001b[0m\n",
      "\u001b[?25hCollecting absl-py>=1.0.0\n",
      "  Downloading absl_py-2.1.0-py3-none-any.whl (133 kB)\n",
      "\u001b[2K     \u001b[90m━━━━━━━━━━━━━━━━━━━━━━━━━━━━━━━━━━━━━━\u001b[0m \u001b[32m133.7/133.7 kB\u001b[0m \u001b[31m35.9 MB/s\u001b[0m eta \u001b[36m0:00:00\u001b[0m\n",
      "\u001b[?25hCollecting tensorboard<2.11,>=2.10\n",
      "  Downloading tensorboard-2.10.1-py3-none-any.whl (5.9 MB)\n",
      "\u001b[2K     \u001b[90m━━━━━━━━━━━━━━━━━━━━━━━━━━━━━━━━━━━━━━━━\u001b[0m \u001b[32m5.9/5.9 MB\u001b[0m \u001b[31m46.1 MB/s\u001b[0m eta \u001b[36m0:00:00\u001b[0m00:01\u001b[0m00:01\u001b[0m\n",
      "\u001b[?25hCollecting astunparse>=1.6.0\n",
      "  Using cached astunparse-1.6.3-py2.py3-none-any.whl (12 kB)\n",
      "Collecting libclang>=13.0.0\n",
      "  Downloading libclang-18.1.1-py2.py3-none-macosx_10_9_x86_64.whl (26.5 MB)\n",
      "\u001b[2K     \u001b[90m━━━━━━━━━━━━━━━━━━━━━━━━━━━━━━━━━━━━━━━━\u001b[0m \u001b[32m26.5/26.5 MB\u001b[0m \u001b[31m29.4 MB/s\u001b[0m eta \u001b[36m0:00:00\u001b[0m00:01\u001b[0m00:01\u001b[0m\n",
      "\u001b[?25hCollecting wrapt>=1.11.0\n",
      "  Downloading wrapt-1.16.0-cp310-cp310-macosx_10_9_x86_64.whl (37 kB)\n",
      "Collecting flatbuffers>=2.0\n",
      "  Downloading flatbuffers-24.3.25-py2.py3-none-any.whl (26 kB)\n",
      "Collecting tensorflow-io-gcs-filesystem>=0.23.1\n",
      "  Downloading tensorflow_io_gcs_filesystem-0.37.0-cp310-cp310-macosx_10_14_x86_64.whl (2.5 MB)\n",
      "\u001b[2K     \u001b[90m━━━━━━━━━━━━━━━━━━━━━━━━━━━━━━━━━━━━━━━━\u001b[0m \u001b[32m2.5/2.5 MB\u001b[0m \u001b[31m36.1 MB/s\u001b[0m eta \u001b[36m0:00:00\u001b[0ma \u001b[36m0:00:01\u001b[0m\n",
      "\u001b[?25hCollecting keras-preprocessing>=1.1.1\n",
      "  Downloading Keras_Preprocessing-1.1.2-py2.py3-none-any.whl (42 kB)\n",
      "\u001b[2K     \u001b[90m━━━━━━━━━━━━━━━━━━━━━━━━━━━━━━━━━━━━━━━━\u001b[0m \u001b[32m42.6/42.6 kB\u001b[0m \u001b[31m7.8 MB/s\u001b[0m eta \u001b[36m0:00:00\u001b[0m\n",
      "\u001b[?25hRequirement already satisfied: six>=1.12.0 in /Users/hyakuzukamaya/opt/anaconda3/envs/tf/lib/python3.10/site-packages (from tensorflow==2.10.0) (1.16.0)\n",
      "Collecting opt-einsum>=2.3.2\n",
      "  Using cached opt_einsum-3.3.0-py3-none-any.whl (65 kB)\n",
      "Requirement already satisfied: wheel<1.0,>=0.23.0 in /Users/hyakuzukamaya/opt/anaconda3/envs/tf/lib/python3.10/site-packages (from astunparse>=1.6.0->tensorflow==2.10.0) (0.38.4)\n",
      "Collecting google-auth-oauthlib<0.5,>=0.4.1\n",
      "  Using cached google_auth_oauthlib-0.4.6-py2.py3-none-any.whl (18 kB)\n",
      "Collecting tensorboard-data-server<0.7.0,>=0.6.0\n",
      "  Using cached tensorboard_data_server-0.6.1-py3-none-macosx_10_9_x86_64.whl (3.5 MB)\n",
      "Collecting requests<3,>=2.21.0\n",
      "  Downloading requests-2.32.3-py3-none-any.whl (64 kB)\n",
      "\u001b[2K     \u001b[90m━━━━━━━━━━━━━━━━━━━━━━━━━━━━━━━━━━━━━━━━\u001b[0m \u001b[32m64.9/64.9 kB\u001b[0m \u001b[31m8.7 MB/s\u001b[0m eta \u001b[36m0:00:00\u001b[0m\n",
      "\u001b[?25hCollecting google-auth<3,>=1.6.3\n",
      "  Downloading google_auth-2.30.0-py2.py3-none-any.whl (193 kB)\n",
      "\u001b[2K     \u001b[90m━━━━━━━━━━━━━━━━━━━━━━━━━━━━━━━━━━━━━━\u001b[0m \u001b[32m193.7/193.7 kB\u001b[0m \u001b[31m17.2 MB/s\u001b[0m eta \u001b[36m0:00:00\u001b[0m\n",
      "\u001b[?25hCollecting markdown>=2.6.8\n",
      "  Downloading Markdown-3.6-py3-none-any.whl (105 kB)\n",
      "\u001b[2K     \u001b[90m━━━━━━━━━━━━━━━━━━━━━━━━━━━━━━━━━━━━━━\u001b[0m \u001b[32m105.4/105.4 kB\u001b[0m \u001b[31m14.2 MB/s\u001b[0m eta \u001b[36m0:00:00\u001b[0m\n",
      "\u001b[?25hCollecting tensorboard-plugin-wit>=1.6.0\n",
      "  Using cached tensorboard_plugin_wit-1.8.1-py3-none-any.whl (781 kB)\n",
      "Collecting werkzeug>=1.0.1\n",
      "  Downloading werkzeug-3.0.3-py3-none-any.whl (227 kB)\n",
      "\u001b[2K     \u001b[90m━━━━━━━━━━━━━━━━━━━━━━━━━━━━━━━━━━━━━━\u001b[0m \u001b[32m227.3/227.3 kB\u001b[0m \u001b[31m21.7 MB/s\u001b[0m eta \u001b[36m0:00:00\u001b[0m\n",
      "\u001b[?25hCollecting pyasn1-modules>=0.2.1\n",
      "  Downloading pyasn1_modules-0.4.0-py3-none-any.whl (181 kB)\n",
      "\u001b[2K     \u001b[90m━━━━━━━━━━━━━━━━━━━━━━━━━━━━━━━━━━━━━━\u001b[0m \u001b[32m181.2/181.2 kB\u001b[0m \u001b[31m18.3 MB/s\u001b[0m eta \u001b[36m0:00:00\u001b[0m\n",
      "\u001b[?25hCollecting cachetools<6.0,>=2.0.0\n",
      "  Downloading cachetools-5.3.3-py3-none-any.whl (9.3 kB)\n",
      "Collecting rsa<5,>=3.1.4\n",
      "  Using cached rsa-4.9-py3-none-any.whl (34 kB)\n",
      "Collecting requests-oauthlib>=0.7.0\n",
      "  Downloading requests_oauthlib-2.0.0-py2.py3-none-any.whl (24 kB)\n",
      "Requirement already satisfied: certifi>=2017.4.17 in /Users/hyakuzukamaya/opt/anaconda3/envs/tf/lib/python3.10/site-packages (from requests<3,>=2.21.0->tensorboard<2.11,>=2.10->tensorflow==2.10.0) (2024.6.2)\n",
      "Collecting urllib3<3,>=1.21.1\n",
      "  Downloading urllib3-2.2.2-py3-none-any.whl (121 kB)\n",
      "\u001b[2K     \u001b[90m━━━━━━━━━━━━━━━━━━━━━━━━━━━━━━━━━━━━━━\u001b[0m \u001b[32m121.4/121.4 kB\u001b[0m \u001b[31m22.9 MB/s\u001b[0m eta \u001b[36m0:00:00\u001b[0m\n",
      "\u001b[?25hCollecting charset-normalizer<4,>=2\n",
      "  Downloading charset_normalizer-3.3.2-cp310-cp310-macosx_10_9_x86_64.whl (122 kB)\n",
      "\u001b[2K     \u001b[90m━━━━━━━━━━━━━━━━━━━━━━━━━━━━━━━━━━━━━━\u001b[0m \u001b[32m122.5/122.5 kB\u001b[0m \u001b[31m20.1 MB/s\u001b[0m eta \u001b[36m0:00:00\u001b[0m\n",
      "\u001b[?25hCollecting idna<4,>=2.5\n",
      "  Downloading idna-3.7-py3-none-any.whl (66 kB)\n",
      "\u001b[2K     \u001b[90m━━━━━━━━━━━━━━━━━━━━━━━━━━━━━━━━━━━━━━━━\u001b[0m \u001b[32m66.8/66.8 kB\u001b[0m \u001b[31m12.8 MB/s\u001b[0m eta \u001b[36m0:00:00\u001b[0m\n",
      "\u001b[?25hCollecting MarkupSafe>=2.1.1\n",
      "  Downloading MarkupSafe-2.1.5-cp310-cp310-macosx_10_9_x86_64.whl (14 kB)\n",
      "Collecting pyasn1<0.7.0,>=0.4.6\n",
      "  Downloading pyasn1-0.6.0-py2.py3-none-any.whl (85 kB)\n",
      "\u001b[2K     \u001b[90m━━━━━━━━━━━━━━━━━━━━━━━━━━━━━━━━━━━━━━━━\u001b[0m \u001b[32m85.3/85.3 kB\u001b[0m \u001b[31m18.7 MB/s\u001b[0m eta \u001b[36m0:00:00\u001b[0m\n",
      "\u001b[?25hCollecting oauthlib>=3.0.0\n",
      "  Using cached oauthlib-3.2.2-py3-none-any.whl (151 kB)\n",
      "Building wheels for collected packages: grpcio\n",
      "  Building wheel for grpcio (setup.py) ... \u001b[?25l\\"
     ]
    }
   ],
   "source": [
    "!pip3 install tensorflow==2.10.0 numpy==1.22"
   ]
  },
  {
   "cell_type": "code",
   "execution_count": 2,
   "metadata": {
    "scrolled": true
   },
   "outputs": [],
   "source": [
    "import tensorflow as tf\n",
    "print(\"TensorFlow version:\", tf.__version__)\n",
    "\n",
    "# from tensorflow.keras.layers import Dense\n",
    "# from tensorflow.keras import Model\n",
    "# from tensorflow.keras import layers\n",
    "# from tensorflow import keras\n",
    "# import os\n",
    "# import sys\n",
    "# import matplotlib.pyplot as plt\n",
    "# import pandas as pd\n",
    "# import seaborn as sns\n",
    "# import csv\n",
    "# import pickle\n",
    "# from scipy.stats import linregress\n",
    "# from sklearn.model_selection import train_test_split\n",
    "# from datetime import datetime\n",
    "# import numpy as np # type: ignore\n",
    "# print(\"Numpy version:\", np.__version__)\n",
    "# from sklearn.preprocessing import Normalizer\n",
    "# # from get_dataset import datasets\n",
    "# from sklearn.svm import SVR\n",
    "# from sklearn.ensemble import BaggingRegressor\n",
    "# from sklearn.datasets import make_regression\n",
    "\n",
    "# sys.path.append(\"..\")\n",
    "# sys.path.append(\"../analyze\")\n",
    "# sys.path.append(\"../measuring_volume\")\n",
    "# sys.path.append(\"../common\")\n",
    "# import pickle\n",
    "# from classify_seq import make_input_seq as mis\n",
    "\n",
    "# import keras_tuner as kt\n",
    "\n",
    "# type_of_l = \"L1\""
   ]
  },
  {
   "attachments": {},
   "cell_type": "markdown",
   "metadata": {},
   "source": [
    "## Loading a dataset"
   ]
  },
  {
   "attachments": {},
   "cell_type": "markdown",
   "metadata": {},
   "source": [
    "## Split into train data and test data as dataset"
   ]
  },
  {
   "cell_type": "markdown",
   "metadata": {},
   "source": [
    "データセットからx, yを作成する"
   ]
  },
  {
   "cell_type": "code",
   "execution_count": 25,
   "metadata": {
    "scrolled": true
   },
   "outputs": [
    {
     "ename": "ModuleNotFoundError",
     "evalue": "No module named 'numpy._core'",
     "output_type": "error",
     "traceback": [
      "\u001b[0;31m---------------------------------------------------------------------------\u001b[0m",
      "\u001b[0;31mModuleNotFoundError\u001b[0m                       Traceback (most recent call last)",
      "Cell \u001b[0;32mIn[25], line 6\u001b[0m\n\u001b[1;32m      4\u001b[0m f_x2\u001b[38;5;241m=\u001b[39m[\u001b[38;5;124m\"\u001b[39m\u001b[38;5;124m../dataset/x_QD_1_L1.pkl\u001b[39m\u001b[38;5;124m\"\u001b[39m]\n\u001b[1;32m      5\u001b[0m f_y2\u001b[38;5;241m=\u001b[39m[\u001b[38;5;124m\"\u001b[39m\u001b[38;5;124m../dataset/L1_data_QD_1.pkl\u001b[39m\u001b[38;5;124m\"\u001b[39m]\n\u001b[0;32m----> 6\u001b[0m domain_seq_dic \u001b[38;5;241m=\u001b[39m \u001b[43mpickle\u001b[49m\u001b[38;5;241;43m.\u001b[39;49m\u001b[43mload\u001b[49m\u001b[43m(\u001b[49m\u001b[43mf1\u001b[49m\u001b[43m)\u001b[49m\n\u001b[1;32m      7\u001b[0m value_dic \u001b[38;5;241m=\u001b[39m pickle\u001b[38;5;241m.\u001b[39mload(f2)\n\u001b[1;32m      8\u001b[0m \u001b[38;5;28;01mfor\u001b[39;00m fx \u001b[38;5;129;01min\u001b[39;00m f_x2:\n",
      "\u001b[0;31mModuleNotFoundError\u001b[0m: No module named 'numpy._core'"
     ]
    }
   ],
   "source": [
    "# [0, 1, ... 0] + temperature + eigenvalue\n",
    "f1 = open(\"../dataset/x_initial_L1.pkl\", \"rb\")\n",
    "f2 = open(\"../dataset/L1_data_initial.pkl\", \"rb\")\n",
    "f_x2=[\"../dataset/x_QD_1_L1.pkl\"]\n",
    "f_y2=[\"../dataset/L1_data_QD_1.pkl\"]\n",
    "domain_seq_dic = pickle.load(f1)\n",
    "value_dic = pickle.load(f2)\n",
    "for fx in f_x2:\n",
    "    fx = open(fx, \"rb\")\n",
    "    domain_seq_dic.update(pickle.load(fx))\n",
    "for fy in f_y2:\n",
    "    fy = open(fy, \"rb\")\n",
    "    value_dic.update(pickle.load(fy))\n",
    "domain_lst = mis.seq_lst(f\"../conf/input_seq_{type_of_l}.csv\")\n",
    "\n",
    "f1.close()\n",
    "f2.close()\n",
    "\n",
    "x_data = []\n",
    "y_data = []\n",
    "\n",
    "for key in domain_seq_dic:\n",
    "    new_x = []\n",
    "    for domain in domain_lst:\n",
    "        new_x.append(domain_seq_dic[key][\"domain\"][domain])\n",
    "    new_x.append(int(key[0]))\n",
    "    new_x.append(float(domain_seq_dic[key]['eigenValue_2']))\n",
    "    x_data.append(new_x)\n",
    "    y_data.append(value_dic[key]['mean_volume'])\n",
    "\n",
    "print(x_data)\n",
    "print(y_data)\n",
    "\n"
   ]
  },
  {
   "cell_type": "code",
   "execution_count": 86,
   "metadata": {},
   "outputs": [
    {
     "name": "stdout",
     "output_type": "stream",
     "text": [
      "480\n"
     ]
    }
   ],
   "source": [
    "x_data = np.array(x_data)\n",
    "y_data = np.array(y_data)\n",
    "\n",
    "# x_train, x_test, y_train, y_test = train_test_split(x_data, y_data, test_size=0.2)\n",
    "x_train, x_test, y_train, y_test = train_test_split(x_data, y_data, test_size=0.2, random_state=1)\n",
    "\n",
    "print(len(x_train))\n"
   ]
  },
  {
   "attachments": {},
   "cell_type": "markdown",
   "metadata": {},
   "source": [
    "## Set my model\n",
    "- input_shape は入力データのサイズ。\n",
    "- モデルの定義方法は調べればたくさん出てきますが、例えばここ： https://sinyblog.com/deaplearning/keras_how_to/ \n",
    "- 最後の層の出力は、期待する出力データのサイズ\n",
    "- [model](https://github.com/si-tm/docs-l10n/blob/master/site/ja/tutorials/quickstart/beginner.py)"
   ]
  },
  {
   "cell_type": "code",
   "execution_count": 87,
   "metadata": {
    "scrolled": true
   },
   "outputs": [],
   "source": [
    "def build_model():\n",
    "    \n",
    "    # model = tf.keras.models.Sequential([\n",
    "    # tf.keras.layers.Flatten(input_shape=(x_train.shape[1],)),\n",
    "    # tf.keras.layers.Dense(128, activation='relu'), # units=128 : 出力空間の次元数\n",
    "    # tf.keras.layers.Dropout(0.2), # 入力にドロップアウトを適用する rate=0.2 : 入力ユニットをドロップする割合\n",
    "    # tf.keras.layers.Dense(1) \n",
    "    # ])\n",
    "\n",
    "    model = tf.keras.models.Sequential([\n",
    "    tf.keras.layers.Flatten(input_shape=(x_train.shape[1],)),\n",
    "    tf.keras.layers.Dense(128, activation='relu', name=\"layer1\"), # units=128 : 出力空間の次元数\n",
    "    tf.keras.layers.Dense(128, activation='relu', name=\"layer2\"), # units=128 : 出力空間の次元数 # units=128 : 出力空間の次元数\n",
    "    # tf.keras.layers.Dense(128, activation='relu', name=\"layer3\"), # units=128 : 出力空間の次元数\n",
    "    # tf.keras.layers.Dense(128, activation='relu', name=\"layer4\"), # units=128 : 出力空間の次元数 # units=128 : 出力空間の次元数\n",
    "    # tf.keras.layers.Dense(128, activation='relu', name=\"layer5\"), # units=128 : 出力空間の次元数 # units=128 : 出力空間の次元数\n",
    "    tf.keras.layers.Dropout(0.2), # 入力にドロップアウトを適用する rate=0.2 : 入力ユニットをドロップする割合\n",
    "    tf.keras.layers.Dense(1) \n",
    "    ])\n",
    "\n",
    "    optimizer = tf.keras.optimizers.Adam() # optimizers も Adam 以外に色々種類があります。調べてみてください！\n",
    "\n",
    "    model.compile(loss='mse',\n",
    "                optimizer=optimizer,\n",
    "                metrics=['mae', 'mse']) # loss 関数に何を採用するかはどんな問題を解きたいのかによります。\n",
    "                                        #ここでは MSE を採用していますが、他にも色々な選択肢があります。調べてみてください！\n",
    "    return model"
   ]
  },
  {
   "cell_type": "code",
   "execution_count": 88,
   "metadata": {
    "scrolled": true
   },
   "outputs": [],
   "source": [
    "model = build_model()"
   ]
  },
  {
   "cell_type": "code",
   "execution_count": 89,
   "metadata": {
    "scrolled": true
   },
   "outputs": [
    {
     "name": "stdout",
     "output_type": "stream",
     "text": [
      "Model: \"sequential_2\"\n",
      "_________________________________________________________________\n",
      " Layer (type)                Output Shape              Param #   \n",
      "=================================================================\n",
      " flatten_2 (Flatten)         (None, 18)                0         \n",
      "                                                                 \n",
      " layer1 (Dense)              (None, 128)               2432      \n",
      "                                                                 \n",
      " layer2 (Dense)              (None, 128)               16512     \n",
      "                                                                 \n",
      " dropout_2 (Dropout)         (None, 128)               0         \n",
      "                                                                 \n",
      " dense_2 (Dense)             (None, 1)                 129       \n",
      "                                                                 \n",
      "=================================================================\n",
      "Total params: 19,073\n",
      "Trainable params: 19,073\n",
      "Non-trainable params: 0\n",
      "_________________________________________________________________\n"
     ]
    }
   ],
   "source": [
    "model.summary()"
   ]
  },
  {
   "cell_type": "code",
   "execution_count": 90,
   "metadata": {
    "scrolled": true
   },
   "outputs": [
    {
     "name": "stdout",
     "output_type": "stream",
     "text": [
      "(10, 18)\n",
      "1/1 [==============================] - 0s 39ms/step\n"
     ]
    }
   ],
   "source": [
    "example_batch = x_train[:10]\n",
    "print(example_batch.shape)\n",
    "example_result = model.predict(example_batch)\n",
    "# example_result"
   ]
  },
  {
   "cell_type": "code",
   "execution_count": 91,
   "metadata": {},
   "outputs": [
    {
     "name": "stdout",
     "output_type": "stream",
     "text": [
      "[[18.48121 ]\n",
      " [16.022701]\n",
      " [20.036833]\n",
      " [20.694532]\n",
      " [17.738388]\n",
      " [20.117823]\n",
      " [18.975054]\n",
      " [19.367067]\n",
      " [18.864021]\n",
      " [20.610924]]\n"
     ]
    }
   ],
   "source": [
    "print(example_result)"
   ]
  },
  {
   "cell_type": "code",
   "execution_count": 92,
   "metadata": {
    "scrolled": true
   },
   "outputs": [
    {
     "name": "stdout",
     "output_type": "stream",
     "text": [
      "\n",
      "...................................................................................................."
     ]
    }
   ],
   "source": [
    "# エポックが終わるごとにドットを一つ出力することで進捗を表示\n",
    "class PrintDot(tf.keras.callbacks.Callback):\n",
    "    def on_epoch_end(self, epoch, logs):\n",
    "        if epoch % 100 == 0: print('')\n",
    "        print('.', end='')\n",
    "\n",
    "# early_stop = keras.callbacks.EarlyStopping(monitor='val_loss', patience=10)\n",
    "EPOCHS = 100 # epoch 数も考慮しよう\n",
    "# EPOCHS = 100 # epoch 数も考慮しよう\n",
    "\n",
    "history = model.fit(\n",
    "    x_train, y_train,\n",
    "    epochs=EPOCHS, validation_split = 0.2, verbose=0,\n",
    "    callbacks=[PrintDot()]\n",
    ")"
   ]
  },
  {
   "cell_type": "code",
   "execution_count": 93,
   "metadata": {
    "scrolled": true
   },
   "outputs": [
    {
     "data": {
      "text/html": [
       "<div>\n",
       "<style scoped>\n",
       "    .dataframe tbody tr th:only-of-type {\n",
       "        vertical-align: middle;\n",
       "    }\n",
       "\n",
       "    .dataframe tbody tr th {\n",
       "        vertical-align: top;\n",
       "    }\n",
       "\n",
       "    .dataframe thead th {\n",
       "        text-align: right;\n",
       "    }\n",
       "</style>\n",
       "<table border=\"1\" class=\"dataframe\">\n",
       "  <thead>\n",
       "    <tr style=\"text-align: right;\">\n",
       "      <th></th>\n",
       "      <th>loss</th>\n",
       "      <th>mae</th>\n",
       "      <th>mse</th>\n",
       "      <th>val_loss</th>\n",
       "      <th>val_mae</th>\n",
       "      <th>val_mse</th>\n",
       "      <th>epoch</th>\n",
       "    </tr>\n",
       "  </thead>\n",
       "  <tbody>\n",
       "    <tr>\n",
       "      <th>95</th>\n",
       "      <td>22.566309</td>\n",
       "      <td>2.900737</td>\n",
       "      <td>22.566309</td>\n",
       "      <td>24.782831</td>\n",
       "      <td>2.408631</td>\n",
       "      <td>24.782831</td>\n",
       "      <td>95</td>\n",
       "    </tr>\n",
       "    <tr>\n",
       "      <th>96</th>\n",
       "      <td>23.019781</td>\n",
       "      <td>2.864296</td>\n",
       "      <td>23.019781</td>\n",
       "      <td>25.842979</td>\n",
       "      <td>2.368993</td>\n",
       "      <td>25.842979</td>\n",
       "      <td>96</td>\n",
       "    </tr>\n",
       "    <tr>\n",
       "      <th>97</th>\n",
       "      <td>23.733713</td>\n",
       "      <td>2.954057</td>\n",
       "      <td>23.733713</td>\n",
       "      <td>25.672974</td>\n",
       "      <td>2.363212</td>\n",
       "      <td>25.672974</td>\n",
       "      <td>97</td>\n",
       "    </tr>\n",
       "    <tr>\n",
       "      <th>98</th>\n",
       "      <td>21.990705</td>\n",
       "      <td>2.872007</td>\n",
       "      <td>21.990705</td>\n",
       "      <td>24.024643</td>\n",
       "      <td>3.089373</td>\n",
       "      <td>24.024643</td>\n",
       "      <td>98</td>\n",
       "    </tr>\n",
       "    <tr>\n",
       "      <th>99</th>\n",
       "      <td>22.701143</td>\n",
       "      <td>2.930866</td>\n",
       "      <td>22.701143</td>\n",
       "      <td>23.720591</td>\n",
       "      <td>2.735377</td>\n",
       "      <td>23.720591</td>\n",
       "      <td>99</td>\n",
       "    </tr>\n",
       "  </tbody>\n",
       "</table>\n",
       "</div>"
      ],
      "text/plain": [
       "         loss       mae        mse   val_loss   val_mae    val_mse  epoch\n",
       "95  22.566309  2.900737  22.566309  24.782831  2.408631  24.782831     95\n",
       "96  23.019781  2.864296  23.019781  25.842979  2.368993  25.842979     96\n",
       "97  23.733713  2.954057  23.733713  25.672974  2.363212  25.672974     97\n",
       "98  21.990705  2.872007  21.990705  24.024643  3.089373  24.024643     98\n",
       "99  22.701143  2.930866  22.701143  23.720591  2.735377  23.720591     99"
      ]
     },
     "execution_count": 93,
     "metadata": {},
     "output_type": "execute_result"
    }
   ],
   "source": [
    "hist = pd.DataFrame(history.history)\n",
    "hist['epoch'] = history.epoch\n",
    "hist.tail()"
   ]
  },
  {
   "cell_type": "code",
   "execution_count": 94,
   "metadata": {
    "scrolled": true
   },
   "outputs": [
    {
     "data": {
      "image/png": "[encoded data removed]",
      "text/plain": [
       "<Figure size 640x480 with 1 Axes>"
      ]
     },
     "metadata": {},
     "output_type": "display_data"
    },
    {
     "data": {
      "image/png": "[encoded data removed]",
      "text/plain": [
       "<Figure size 640x480 with 1 Axes>"
      ]
     },
     "metadata": {},
     "output_type": "display_data"
    }
   ],
   "source": [
    "def plot_history(history):\n",
    "    hist = pd.DataFrame(history.history)\n",
    "    hist['epoch'] = history.epoch\n",
    "\n",
    "    plt.figure()\n",
    "    plt.xlabel('Epoch')\n",
    "    plt.ylabel('Mean Abs Error [mc]')\n",
    "    plt.plot(hist['epoch'], hist['mae'], label='Train Error')\n",
    "    plt.plot(hist['epoch'], hist['val_mae'], label = 'Val Error')\n",
    "    plt.ylim([0,30])\n",
    "    plt.legend()\n",
    "\n",
    "    plt.figure()\n",
    "    plt.xlabel('Epoch')\n",
    "    plt.ylabel('Mean Square Error [$mc^2$]')\n",
    "    plt.plot(hist['epoch'], hist['mse'], label='Train Error')\n",
    "    plt.plot(hist['epoch'], hist['val_mse'], label = 'Val Error')\n",
    "    plt.ylim([0,3])\n",
    "    plt.legend()\n",
    "    plt.show()\n",
    "\n",
    "\n",
    "plot_history(history)"
   ]
  },
  {
   "cell_type": "code",
   "execution_count": 95,
   "metadata": {
    "scrolled": true
   },
   "outputs": [
    {
     "name": "stdout",
     "output_type": "stream",
     "text": [
      "4/4 [==============================] - 0s 918us/step\n"
     ]
    },
    {
     "data": {
      "text/plain": [
       "[<matplotlib.lines.Line2D at 0x7fc13c6b3970>]"
      ]
     },
     "execution_count": 95,
     "metadata": {},
     "output_type": "execute_result"
    },
    {
     "data": {
      "image/png": "[encoded data removed]",
      "text/plain": [
       "<Figure size 600x600 with 1 Axes>"
      ]
     },
     "metadata": {},
     "output_type": "display_data"
    }
   ],
   "source": [
    "test_predictions = model.predict(x_test).flatten()\n",
    "res = linregress(y_test, test_predictions)\n",
    "\n",
    "plt.figure(figsize=(6,6))\n",
    "plt.scatter(y_test, test_predictions)\n",
    "# plt.xlabel('True Values [mc]')\n",
    "# plt.ylabel('Predictions [mc]')\n",
    "plt.xlabel('L1 True average of DNA volume')\n",
    "plt.ylabel('L1 Prediction of DNA volume average')\n",
    "plt.axis('equal')\n",
    "plt.axis('square')\n",
    "plt.xlim([0,20])\n",
    "plt.ylim([0,20])\n",
    "_ = plt.plot([0,20], [0,20])\n",
    "\n",
    "plt.plot([0,20], res.intercept + res.slope*np.array([0, 20]), 'r', label='fitted line')\n",
    "\n",
    "# normalizer 学習前"
   ]
  },
  {
   "cell_type": "code",
   "execution_count": 96,
   "metadata": {
    "scrolled": true
   },
   "outputs": [
    {
     "name": "stdout",
     "output_type": "stream",
     "text": [
      "INFO:tensorflow:Assets written to: ../saved_model/L1_initial_eigen/assets\n"
     ]
    }
   ],
   "source": [
    "# トレーニングした model をどこかで使用したいなら以下のようにモデルを保存する\n",
    "model.save('../saved_model/L1_initial_eigen')"
   ]
  },
  {
   "cell_type": "code",
   "execution_count": 97,
   "metadata": {},
   "outputs": [],
   "source": [
    "from keras.models import load_model\n",
    "\n",
    "def getModel(path=\"../saved_model/l1_ave_230710\"):\n",
    "    model = load_model(path)\n",
    "    return model\n"
   ]
  },
  {
   "cell_type": "code",
   "execution_count": 98,
   "metadata": {},
   "outputs": [],
   "source": [
    "mse = tf.keras.losses.MeanSquaredError()"
   ]
  },
  {
   "attachments": {},
   "cell_type": "markdown",
   "metadata": {},
   "source": []
  },
  {
   "cell_type": "code",
   "execution_count": 99,
   "metadata": {},
   "outputs": [
    {
     "ename": "OSError",
     "evalue": "No file or directory found at ../saved_model/L1_initial",
     "output_type": "error",
     "traceback": [
      "\u001b[0;31m---------------------------------------------------------------------------\u001b[0m",
      "\u001b[0;31mOSError\u001b[0m                                   Traceback (most recent call last)",
      "Cell \u001b[0;32mIn[99], line 2\u001b[0m\n\u001b[1;32m      1\u001b[0m \u001b[38;5;66;03m# model = getModel()\u001b[39;00m\n\u001b[0;32m----> 2\u001b[0m model \u001b[38;5;241m=\u001b[39m \u001b[43mgetModel\u001b[49m\u001b[43m(\u001b[49m\u001b[38;5;124;43m'\u001b[39;49m\u001b[38;5;124;43m../saved_model/L1_initial\u001b[39;49m\u001b[38;5;124;43m'\u001b[39;49m\u001b[43m)\u001b[49m\n\u001b[1;32m      3\u001b[0m test_predictions \u001b[38;5;241m=\u001b[39m model\u001b[38;5;241m.\u001b[39mpredict(x_test)\u001b[38;5;241m.\u001b[39mflatten()\n\u001b[1;32m      5\u001b[0m mse(y_test,test_predictions)\u001b[38;5;241m.\u001b[39mnumpy()\n",
      "Cell \u001b[0;32mIn[97], line 4\u001b[0m, in \u001b[0;36mgetModel\u001b[0;34m(path)\u001b[0m\n\u001b[1;32m      3\u001b[0m \u001b[38;5;28;01mdef\u001b[39;00m \u001b[38;5;21mgetModel\u001b[39m(path\u001b[38;5;241m=\u001b[39m\u001b[38;5;124m\"\u001b[39m\u001b[38;5;124m../saved_model/l1_ave_230710\u001b[39m\u001b[38;5;124m\"\u001b[39m):\n\u001b[0;32m----> 4\u001b[0m     model \u001b[38;5;241m=\u001b[39m \u001b[43mload_model\u001b[49m\u001b[43m(\u001b[49m\u001b[43mpath\u001b[49m\u001b[43m)\u001b[49m\n\u001b[1;32m      5\u001b[0m     \u001b[38;5;28;01mreturn\u001b[39;00m model\n",
      "File \u001b[0;32m~/opt/anaconda3/lib/python3.9/site-packages/keras/utils/traceback_utils.py:70\u001b[0m, in \u001b[0;36mfilter_traceback.<locals>.error_handler\u001b[0;34m(*args, **kwargs)\u001b[0m\n\u001b[1;32m     67\u001b[0m     filtered_tb \u001b[38;5;241m=\u001b[39m _process_traceback_frames(e\u001b[38;5;241m.\u001b[39m__traceback__)\n\u001b[1;32m     68\u001b[0m     \u001b[38;5;66;03m# To get the full stack trace, call:\u001b[39;00m\n\u001b[1;32m     69\u001b[0m     \u001b[38;5;66;03m# `tf.debugging.disable_traceback_filtering()`\u001b[39;00m\n\u001b[0;32m---> 70\u001b[0m     \u001b[38;5;28;01mraise\u001b[39;00m e\u001b[38;5;241m.\u001b[39mwith_traceback(filtered_tb) \u001b[38;5;28;01mfrom\u001b[39;00m \u001b[38;5;28mNone\u001b[39m\n\u001b[1;32m     71\u001b[0m \u001b[38;5;28;01mfinally\u001b[39;00m:\n\u001b[1;32m     72\u001b[0m     \u001b[38;5;28;01mdel\u001b[39;00m filtered_tb\n",
      "File \u001b[0;32m~/opt/anaconda3/lib/python3.9/site-packages/keras/saving/save.py:226\u001b[0m, in \u001b[0;36mload_model\u001b[0;34m(filepath, custom_objects, compile, options)\u001b[0m\n\u001b[1;32m    224\u001b[0m \u001b[38;5;28;01mif\u001b[39;00m \u001b[38;5;28misinstance\u001b[39m(filepath_str, \u001b[38;5;28mstr\u001b[39m):\n\u001b[1;32m    225\u001b[0m     \u001b[38;5;28;01mif\u001b[39;00m \u001b[38;5;129;01mnot\u001b[39;00m tf\u001b[38;5;241m.\u001b[39mio\u001b[38;5;241m.\u001b[39mgfile\u001b[38;5;241m.\u001b[39mexists(filepath_str):\n\u001b[0;32m--> 226\u001b[0m         \u001b[38;5;28;01mraise\u001b[39;00m \u001b[38;5;167;01mIOError\u001b[39;00m(\n\u001b[1;32m    227\u001b[0m             \u001b[38;5;124mf\u001b[39m\u001b[38;5;124m\"\u001b[39m\u001b[38;5;124mNo file or directory found at \u001b[39m\u001b[38;5;132;01m{\u001b[39;00mfilepath_str\u001b[38;5;132;01m}\u001b[39;00m\u001b[38;5;124m\"\u001b[39m\n\u001b[1;32m    228\u001b[0m         )\n\u001b[1;32m    230\u001b[0m     \u001b[38;5;28;01mif\u001b[39;00m tf\u001b[38;5;241m.\u001b[39mio\u001b[38;5;241m.\u001b[39mgfile\u001b[38;5;241m.\u001b[39misdir(filepath_str):\n\u001b[1;32m    231\u001b[0m         \u001b[38;5;28;01mreturn\u001b[39;00m saved_model_load\u001b[38;5;241m.\u001b[39mload(\n\u001b[1;32m    232\u001b[0m             filepath_str, \u001b[38;5;28mcompile\u001b[39m, options\n\u001b[1;32m    233\u001b[0m         )\n",
      "\u001b[0;31mOSError\u001b[0m: No file or directory found at ../saved_model/L1_initial"
     ]
    }
   ],
   "source": [
    "# model = getModel()\n",
    "model = getModel('../saved_model/L1_initial')\n",
    "test_predictions = model.predict(x_test).flatten()\n",
    "\n",
    "mse(y_test,test_predictions).numpy()"
   ]
  },
  {
   "cell_type": "code",
   "execution_count": null,
   "metadata": {},
   "outputs": [
    {
     "ename": "OSError",
     "evalue": "No file or directory found at ../saved_model/L1_initial",
     "output_type": "error",
     "traceback": [
      "\u001b[0;31m---------------------------------------------------------------------------\u001b[0m",
      "\u001b[0;31mOSError\u001b[0m                                   Traceback (most recent call last)",
      "Cell \u001b[0;32mIn[71], line 7\u001b[0m\n\u001b[1;32m      5\u001b[0m     \u001b[38;5;28;01mreturn\u001b[39;00m model\n\u001b[1;32m      6\u001b[0m mse \u001b[38;5;241m=\u001b[39m tf\u001b[38;5;241m.\u001b[39mkeras\u001b[38;5;241m.\u001b[39mlosses\u001b[38;5;241m.\u001b[39mMeanSquaredError()\n\u001b[0;32m----> 7\u001b[0m model \u001b[38;5;241m=\u001b[39m \u001b[43mgetModel\u001b[49m\u001b[43m(\u001b[49m\u001b[43m)\u001b[49m\n\u001b[1;32m      8\u001b[0m test_predictions \u001b[38;5;241m=\u001b[39m model\u001b[38;5;241m.\u001b[39mpredict(x_test)\u001b[38;5;241m.\u001b[39mflatten()\n\u001b[1;32m     10\u001b[0m mse(y_test,test_predictions)\u001b[38;5;241m.\u001b[39mnumpy()\n",
      "Cell \u001b[0;32mIn[71], line 4\u001b[0m, in \u001b[0;36mgetModel\u001b[0;34m(path)\u001b[0m\n\u001b[1;32m      3\u001b[0m \u001b[38;5;28;01mdef\u001b[39;00m \u001b[38;5;21mgetModel\u001b[39m(path\u001b[38;5;241m=\u001b[39m\u001b[38;5;124m\"\u001b[39m\u001b[38;5;124m../saved_model/L1_initial\u001b[39m\u001b[38;5;124m\"\u001b[39m):\n\u001b[0;32m----> 4\u001b[0m     model \u001b[38;5;241m=\u001b[39m \u001b[43mload_model\u001b[49m\u001b[43m(\u001b[49m\u001b[43mpath\u001b[49m\u001b[43m)\u001b[49m\n\u001b[1;32m      5\u001b[0m     \u001b[38;5;28;01mreturn\u001b[39;00m model\n",
      "File \u001b[0;32m~/opt/anaconda3/lib/python3.9/site-packages/keras/utils/traceback_utils.py:70\u001b[0m, in \u001b[0;36mfilter_traceback.<locals>.error_handler\u001b[0;34m(*args, **kwargs)\u001b[0m\n\u001b[1;32m     67\u001b[0m     filtered_tb \u001b[38;5;241m=\u001b[39m _process_traceback_frames(e\u001b[38;5;241m.\u001b[39m__traceback__)\n\u001b[1;32m     68\u001b[0m     \u001b[38;5;66;03m# To get the full stack trace, call:\u001b[39;00m\n\u001b[1;32m     69\u001b[0m     \u001b[38;5;66;03m# `tf.debugging.disable_traceback_filtering()`\u001b[39;00m\n\u001b[0;32m---> 70\u001b[0m     \u001b[38;5;28;01mraise\u001b[39;00m e\u001b[38;5;241m.\u001b[39mwith_traceback(filtered_tb) \u001b[38;5;28;01mfrom\u001b[39;00m \u001b[38;5;28mNone\u001b[39m\n\u001b[1;32m     71\u001b[0m \u001b[38;5;28;01mfinally\u001b[39;00m:\n\u001b[1;32m     72\u001b[0m     \u001b[38;5;28;01mdel\u001b[39;00m filtered_tb\n",
      "File \u001b[0;32m~/opt/anaconda3/lib/python3.9/site-packages/keras/saving/save.py:226\u001b[0m, in \u001b[0;36mload_model\u001b[0;34m(filepath, custom_objects, compile, options)\u001b[0m\n\u001b[1;32m    224\u001b[0m \u001b[38;5;28;01mif\u001b[39;00m \u001b[38;5;28misinstance\u001b[39m(filepath_str, \u001b[38;5;28mstr\u001b[39m):\n\u001b[1;32m    225\u001b[0m     \u001b[38;5;28;01mif\u001b[39;00m \u001b[38;5;129;01mnot\u001b[39;00m tf\u001b[38;5;241m.\u001b[39mio\u001b[38;5;241m.\u001b[39mgfile\u001b[38;5;241m.\u001b[39mexists(filepath_str):\n\u001b[0;32m--> 226\u001b[0m         \u001b[38;5;28;01mraise\u001b[39;00m \u001b[38;5;167;01mIOError\u001b[39;00m(\n\u001b[1;32m    227\u001b[0m             \u001b[38;5;124mf\u001b[39m\u001b[38;5;124m\"\u001b[39m\u001b[38;5;124mNo file or directory found at \u001b[39m\u001b[38;5;132;01m{\u001b[39;00mfilepath_str\u001b[38;5;132;01m}\u001b[39;00m\u001b[38;5;124m\"\u001b[39m\n\u001b[1;32m    228\u001b[0m         )\n\u001b[1;32m    230\u001b[0m     \u001b[38;5;28;01mif\u001b[39;00m tf\u001b[38;5;241m.\u001b[39mio\u001b[38;5;241m.\u001b[39mgfile\u001b[38;5;241m.\u001b[39misdir(filepath_str):\n\u001b[1;32m    231\u001b[0m         \u001b[38;5;28;01mreturn\u001b[39;00m saved_model_load\u001b[38;5;241m.\u001b[39mload(\n\u001b[1;32m    232\u001b[0m             filepath_str, \u001b[38;5;28mcompile\u001b[39m, options\n\u001b[1;32m    233\u001b[0m         )\n",
      "\u001b[0;31mOSError\u001b[0m: No file or directory found at ../saved_model/L1_initial"
     ]
    }
   ],
   "source": [
    "from keras.models import load_model\n",
    "\n",
    "def getModel(path=\"../saved_model/L1_initial\"):\n",
    "    model = load_model(path)\n",
    "    return model\n",
    "mse = tf.keras.losses.MeanSquaredError()\n",
    "model = getModel()\n",
    "test_predictions = model.predict(x_test).flatten()\n",
    "\n",
    "mse(y_test,test_predictions).numpy()"
   ]
  },
  {
   "cell_type": "code",
   "execution_count": 111,
   "metadata": {},
   "outputs": [],
   "source": [
    "from sklearn.datasets import load_diabetes, make_regression\n",
    "from sklearn.model_selection import train_test_split\n",
    "from sklearn.ensemble import ExtraTreesRegressor, RandomForestRegressor, GradientBoostingRegressor, StackingRegressor, VotingRegressor\n",
    "from sklearn.linear_model import RidgeCV, LinearRegression\n",
    "from sklearn.svm import LinearSVR\n",
    "from sklearn.ensemble import RandomForestRegressor, HistGradientBoostingRegressor\n",
    "import numpy as np\n",
    "from sklearn.neighbors import KNeighborsRegressor\n",
    "from tensorflow import keras \n",
    "import tensorflow as tf\n",
    "import pandas as pd\n",
    "from matplotlib.backends.backend_pdf import PdfPages"
   ]
  },
  {
   "cell_type": "code",
   "execution_count": 112,
   "metadata": {},
   "outputs": [],
   "source": [
    "# https://scikit-learn.org/stable/modules/generated/sklearn.ensemble.RandomForestRegressor.html#sklearn.ensemble.RandomForestRegressor\n",
    "def randomforest_regressor(x, y, x_train, x_test, y_train, y_test):\n",
    "    regr = RandomForestRegressor(max_depth=2, random_state=0)\n",
    "    regr.fit(x_train, y_train)\n",
    "    return regr.score(x_test, y_test)\n",
    "\n",
    "\n",
    "# https://scikit-learn.org/stable/modules/generated/sklearn.ensemble.ExtraTreesRegressor.html#sklearn.ensemble.ExtraTreesRegressor\n",
    "def extratrees_regressor(x, y, x_train, x_test, y_train, y_test):\n",
    "    # X_train, X_test, y_train, y_test = train_test_split(\n",
    "    #     X, y, random_state=0)\n",
    "    reg = ExtraTreesRegressor(n_estimators=100, random_state=0).fit(\n",
    "    x_train, y_train)\n",
    "    return reg.score(x_test, y_test)\n",
    "\n",
    "# https://scikit-learn.org/stable/modules/generated/sklearn.ensemble.GradientBoostingRegressor.html#sklearn.ensemble.GradientBoostingRegressor\n",
    "def gradientboosting_regressor(X_train, X_test, y_train, y_test):\n",
    "    reg = GradientBoostingRegressor(random_state=0)\n",
    "    reg.fit(X_train, y_train)\n",
    "    return reg.score(X_test, y_test)\n",
    "\n",
    "# https://scikit-learn.org/stable/modules/generated/sklearn.ensemble.StackingRegressor.html#sklearn.ensemble.StackingRegressor\n",
    "def stacking_regressor(X_train, X_test, y_train, y_test):\n",
    "    X, y = load_diabetes(return_X_y=True)\n",
    "    estimators = [\n",
    "        ('lr', RidgeCV()),\n",
    "        ('svr', LinearSVR(random_state=42))\n",
    "    ]\n",
    "    reg = StackingRegressor(\n",
    "        estimators=estimators,\n",
    "        final_estimator=RandomForestRegressor(n_estimators=10,\n",
    "                                            random_state=42)\n",
    "    )\n",
    "    ref = reg.fit(X_train, y_train)\n",
    "    return ref.score(X_test, y_test)\n",
    "\n",
    "# https://scikit-learn.org/stable/modules/generated/sklearn.ensemble.VotingRegressor.html#sklearn.ensemble.VotingRegressor\n",
    "def voting_regressor(X, y, x_train, x_test, y_train, y_test):\n",
    "    r1 = LinearRegression()\n",
    "    r2 = RandomForestRegressor(n_estimators=10, random_state=1)\n",
    "    r3 = KNeighborsRegressor()\n",
    "    X = x_train\n",
    "    y = y_train\n",
    "    er = VotingRegressor([('lr', r1), ('rf', r2), ('r3', r3)])\n",
    "    er = er.fit(X, y)\n",
    "    print(type(x_test))\n",
    "    er.predict(x_test)\n",
    "    return er.score(x_test, y_test)\n",
    "\n",
    "# def voting_regressor(x_train, x_test, y_train, y_test):\n",
    "#     # 各モデルのインスタンスを作成\n",
    "#     r1 = LinearRegression()\n",
    "#     r2 = RandomForestRegressor(n_estimators=10, random_state=1)\n",
    "#     r3 = KNeighborsRegressor()\n",
    "    \n",
    "#     # VotingRegressorのインスタンスを作成し、トレーニングデータにフィットさせる\n",
    "#     er = VotingRegressor([('lr', r1), ('rf', r2), ('knn', r3)])\n",
    "#     er.fit(x_train, y_train)\n",
    "    \n",
    "#     # テストデータに対して予測を行う\n",
    "#     # predictions = er.predict(x_test)\n",
    "    \n",
    "#     # モデルのスコアを計算して返す\n",
    "#     score = er.score(x_test, y_test)\n",
    "    \n",
    "#     return score\n",
    "\n",
    "\n",
    "# https://scikit-learn.org/stable/modules/generated/sklearn.ensemble.GradientBoostingRegressor.html#sklearn.ensemble.GradientBoostingRegressor\n",
    "def histgradientboosting_regressor(X, y, x_train, x_test, y_train, y_test):\n",
    "    # est = HistGradientBoostingRegressor().fit(X, y)\n",
    "    est = HistGradientBoostingRegressor().fit(x_train, y_train)\n",
    "    return est.score(x_test, y_test)\n",
    "\n",
    "def get_model():\n",
    "    # Create a simple model.\n",
    "    inputs = keras.Input(shape=(32,))\n",
    "    outputs = keras.layers.Dense(1)(inputs)\n",
    "    model = keras.Model(inputs, outputs)\n",
    "    model.compile(optimizer=\"adam\", loss=\"mean_squared_error\")\n",
    "    return model\n",
    "\n",
    "def neural_mse(x_train, x_test, y_train, y_test, model_path='../../script/saved_model/random_l1_6_model'):\n",
    "    #y_data = np.concatenate([np.array(y_train),np.array(y_test)])\n",
    "    #print(type(y_data), y_data.shape)\n",
    "    #min_val = y_data.min()\n",
    "    #max_val = y_data.max()\n",
    "    #y_train = (y_train - min_val)/(max_val - min_val)\n",
    "    #y_test = (y_test - min_val)/(max_val - min_val)\n",
    "    #x_train, x_test, y_train, y_test = train_test_split(x_data, y_data, test_size=0.2)\n",
    "\n",
    "    model = keras.models.load_model(model_path)\n",
    "    test_predictions = model.predict(x_test).flatten()\n",
    "    for i in range(len(y_test)):\n",
    "        print(f\"Expected {y_test[i]} and got {test_predictions[i]}\")\n",
    "\n",
    "    #mse = tf.keras.losses.MeanSquaredError()\n",
    "    u = ((y_test-test_predictions)**2).sum()\n",
    "    v = ((y_test - y_test.mean()) ** 2).sum()\n",
    "\n",
    "    return 1.0 - u/v #mse(y_test,test_predictions).numpy()\n",
    "\n",
    "def new_neural_mse(x, y, x_train, x_test, y_train, y_test, model_path='../../script/saved_model/random_l1_6_model'):\n",
    "\n",
    "    model = keras.models.load_model(model_path)\n",
    "    test_predictions = model.predict(x_test).flatten()\n",
    "\n",
    "    mse = tf.keras.losses.MeanSquaredError()\n",
    "\n",
    "    return mse(y_test,test_predictions).numpy()\n"
   ]
  },
  {
   "cell_type": "code",
   "execution_count": 113,
   "metadata": {},
   "outputs": [
    {
     "name": "stdout",
     "output_type": "stream",
     "text": [
      "0\n",
      "(121, 18)\n"
     ]
    },
    {
     "name": "stderr",
     "output_type": "stream",
     "text": [
      "/Users/hyakuzukamaya/opt/anaconda3/lib/python3.9/site-packages/sklearn/svm/_base.py:1244: ConvergenceWarning: Liblinear failed to converge, increase the number of iterations.\n",
      "  warnings.warn(\n",
      "/Users/hyakuzukamaya/opt/anaconda3/lib/python3.9/site-packages/sklearn/svm/_base.py:1244: ConvergenceWarning: Liblinear failed to converge, increase the number of iterations.\n",
      "  warnings.warn(\n",
      "/Users/hyakuzukamaya/opt/anaconda3/lib/python3.9/site-packages/sklearn/svm/_base.py:1244: ConvergenceWarning: Liblinear failed to converge, increase the number of iterations.\n",
      "  warnings.warn(\n",
      "/Users/hyakuzukamaya/opt/anaconda3/lib/python3.9/site-packages/sklearn/svm/_base.py:1244: ConvergenceWarning: Liblinear failed to converge, increase the number of iterations.\n",
      "  warnings.warn(\n",
      "/Users/hyakuzukamaya/opt/anaconda3/lib/python3.9/site-packages/sklearn/svm/_base.py:1244: ConvergenceWarning: Liblinear failed to converge, increase the number of iterations.\n",
      "  warnings.warn(\n",
      "/Users/hyakuzukamaya/opt/anaconda3/lib/python3.9/site-packages/sklearn/svm/_base.py:1244: ConvergenceWarning: Liblinear failed to converge, increase the number of iterations.\n",
      "  warnings.warn(\n"
     ]
    },
    {
     "name": "stdout",
     "output_type": "stream",
     "text": [
      "4/4 [==============================] - 0s 848us/step\n",
      "Expected 9.846642070276754 and got 9.365706443786621\n",
      "Expected 12.969808110800447 and got 9.086921691894531\n",
      "Expected 10.219465944687656 and got 11.793683052062988\n",
      "Expected 8.964470615171795 and got 12.108660697937012\n",
      "Expected 24.163815269500688 and got 10.600113868713379\n",
      "Expected 9.080503576755465 and got 11.035567283630371\n",
      "Expected 11.226579427398136 and got 11.147685050964355\n",
      "Expected 12.16393488802501 and got 12.145597457885742\n",
      "Expected 9.119096921624124 and got 9.352953910827637\n",
      "Expected 10.722725587818264 and got 11.718087196350098\n",
      "Expected 9.28048829695379 and got 10.901480674743652\n",
      "Expected 8.23416624006537 and got 10.419266700744629\n",
      "Expected 10.310513323010614 and got 10.926131248474121\n",
      "Expected 10.312223623655084 and got 9.652241706848145\n",
      "Expected 9.523758107224792 and got 9.357075691223145\n",
      "Expected 16.540222624076147 and got 11.098725318908691\n",
      "Expected 10.26635836230614 and got 10.1071195602417\n",
      "Expected 9.960460143201715 and got 10.355414390563965\n",
      "Expected 9.798674201713144 and got 12.598891258239746\n",
      "Expected 17.692794386637814 and got 10.428956031799316\n",
      "Expected 6.845984641442629 and got 9.877825736999512\n",
      "Expected 11.181829173113622 and got 10.35583209991455\n",
      "Expected 7.01214258003356 and got 9.225813865661621\n",
      "Expected 10.80571038438548 and got 11.620762825012207\n",
      "Expected 9.15098055049446 and got 11.324309349060059\n",
      "Expected 7.778559436053712 and got 10.450201034545898\n",
      "Expected 12.336679714573712 and got 10.239537239074707\n",
      "Expected 7.91674065473222 and got 10.649319648742676\n",
      "Expected 16.559259400372298 and got 9.94506549835205\n",
      "Expected 9.472376584830382 and got 11.076615333557129\n",
      "Expected 19.321139247270985 and got 9.274453163146973\n",
      "Expected 28.84194956269872 and got 10.132155418395996\n",
      "Expected 8.692875638994591 and got 10.279275894165039\n",
      "Expected 29.50528272452926 and got 8.691815376281738\n",
      "Expected 13.954087113560764 and got 9.448774337768555\n",
      "Expected 10.702401740712878 and got 10.607131004333496\n",
      "Expected 18.257779990672578 and got 8.363265037536621\n",
      "Expected 7.4254683154852135 and got 9.626936912536621\n",
      "Expected 7.163683659948871 and got 10.524949073791504\n",
      "Expected 10.707289575521356 and got 12.35306453704834\n",
      "Expected 8.370557975571831 and got 9.941731452941895\n",
      "Expected 10.936889815942669 and got 11.81250286102295\n",
      "Expected 21.95580375487911 and got 10.979093551635742\n",
      "Expected 9.793774147520342 and got 11.71630573272705\n",
      "Expected 10.860294394284198 and got 9.511170387268066\n",
      "Expected 11.480668728395012 and got 12.263936996459961\n",
      "Expected 9.285125268336255 and got 11.315156936645508\n",
      "Expected 6.113177355544785 and got 9.930052757263184\n",
      "Expected 10.491892231160069 and got 10.162957191467285\n",
      "Expected 10.702987812000126 and got 11.693044662475586\n",
      "Expected 10.141614346222028 and got 12.732267379760742\n",
      "Expected 17.13329026327023 and got 11.245280265808105\n",
      "Expected 9.213359752502278 and got 10.173195838928223\n",
      "Expected 8.962255421628084 and got 11.426804542541504\n",
      "Expected 8.37749455224162 and got 10.306620597839355\n",
      "Expected 6.673844979766045 and got 8.823310852050781\n",
      "Expected 9.69518403369944 and got 11.176889419555664\n",
      "Expected 9.442568340531627 and got 11.954797744750977\n",
      "Expected 9.082386526819803 and got 9.42166805267334\n",
      "Expected 20.761879843046472 and got 9.564202308654785\n",
      "Expected 9.516734328485313 and got 11.342646598815918\n",
      "Expected 10.138283841071033 and got 12.110905647277832\n",
      "Expected 10.568109001147592 and got 8.400799751281738\n",
      "Expected 5.9232667629386295 and got 8.356730461120605\n",
      "Expected 9.78402187472676 and got 12.02823543548584\n",
      "Expected 7.503716946915186 and got 10.237593650817871\n",
      "Expected 9.590067669570052 and got 11.274042129516602\n",
      "Expected 8.960638058963065 and got 10.287077903747559\n",
      "Expected 12.906799721970208 and got 10.717750549316406\n",
      "Expected 9.003881549070293 and got 11.576531410217285\n",
      "Expected 9.688588639464983 and got 10.776714324951172\n",
      "Expected 29.159058044111557 and got 9.689242362976074\n",
      "Expected 11.557816402172824 and got 9.138489723205566\n",
      "Expected 10.1232599880239 and got 11.56255054473877\n",
      "Expected 20.101228145374872 and got 9.538958549499512\n",
      "Expected 9.663417709866398 and got 10.877689361572266\n",
      "Expected 10.031027326620945 and got 10.210606575012207\n",
      "Expected 10.089298561181767 and got 12.045275688171387\n",
      "Expected 9.365793613868139 and got 9.396623611450195\n",
      "Expected 10.312691676726484 and got 10.322272300720215\n",
      "Expected 9.779433911570553 and got 10.450518608093262\n",
      "Expected 25.294193445266 and got 11.71299934387207\n",
      "Expected 17.377207325251597 and got 10.17632007598877\n",
      "Expected 12.082764707524595 and got 7.810764312744141\n",
      "Expected 9.461909118899793 and got 10.636789321899414\n",
      "Expected 28.95416472275621 and got 10.221760749816895\n",
      "Expected 11.067314905655104 and got 10.347735404968262\n",
      "Expected 8.170476103850065 and got 10.735915184020996\n",
      "Expected 8.417180442088585 and got 10.83305835723877\n",
      "Expected 11.92400717073438 and got 12.1881742477417\n",
      "Expected 10.336851354811468 and got 9.826142311096191\n",
      "Expected 9.918477987776066 and got 9.605663299560547\n",
      "Expected 11.3420476916276 and got 9.793606758117676\n",
      "Expected 9.653152256827964 and got 12.198050498962402\n",
      "Expected 10.190424575115227 and got 12.127570152282715\n",
      "Expected 10.03087947430291 and got 12.00158405303955\n",
      "Expected 10.710110131178777 and got 10.352639198303223\n",
      "Expected 9.641128513920087 and got 11.79889965057373\n",
      "Expected 4.972891613812964 and got 8.751961708068848\n",
      "Expected 9.730769409670666 and got 10.657267570495605\n",
      "Expected 13.720644325151529 and got 10.672502517700195\n",
      "Expected 8.071094060886143 and got 10.080915451049805\n",
      "Expected 11.34376278557063 and got 11.067975044250488\n",
      "Expected 9.265228145052468 and got 10.949584007263184\n",
      "Expected 10.511957475251503 and got 10.405196189880371\n",
      "Expected 8.988828895321836 and got 10.660399436950684\n",
      "Expected 9.716949171586673 and got 11.151036262512207\n",
      "Expected 10.055644083425605 and got 11.340041160583496\n",
      "Expected 8.715546288891337 and got 10.028526306152344\n",
      "Expected 11.310826682090774 and got 10.593464851379395\n",
      "Expected 10.52662568041252 and got 9.841468811035156\n",
      "Expected 8.6159426899625 and got 10.886942863464355\n",
      "Expected 10.22752253715504 and got 11.497817039489746\n",
      "Expected 10.807426087884009 and got 11.156742095947266\n",
      "Expected 8.156844337693473 and got 10.88162612915039\n",
      "Expected 8.937699340296785 and got 11.163959503173828\n",
      "Expected 10.459884277610609 and got 10.374342918395996\n",
      "Expected 9.821119597886515 and got 10.923179626464844\n",
      "Expected 9.367551284165842 and got 10.517056465148926\n",
      "Expected 30.99050513569667 and got 10.590840339660645\n",
      "Expected 9.506186518491582 and got 12.286747932434082\n"
     ]
    }
   ],
   "source": [
    "x = x_data\n",
    "y = y_data\n",
    "\n",
    "print(np.isnan(x_test).sum())  # 欠損値の数を確認\n",
    "print(x_test.shape)  # 形状を確認\n",
    "\n",
    "extratrees = extratrees_regressor(x, y, x_train, x_test, y_train, y_test)\n",
    "randomforest = randomforest_regressor(x, y, x_train, x_test, y_train, y_test) \n",
    "gradientboosting = gradientboosting_regressor(x_train, x_test, y_train, y_test)\n",
    "stacking = stacking_regressor(x_train, x_test, y_train, y_test)\n",
    "# voting = voting_regressor(x, y, x_train, x_test, y_train, y_test)\n",
    "histgradientboosting = histgradientboosting_regressor(x, y, x_train, x_test, y_train, y_test)\n",
    "neural_mse_score = neural_mse(x_train, x_test, y_train, y_test, model_path='../../script/saved_model/L1_initial_eigen')\n"
   ]
  },
  {
   "cell_type": "code",
   "execution_count": 114,
   "metadata": {},
   "outputs": [],
   "source": [
    "def bagging_regressor(estimator, x_train, x_test, y_train, y_test):\n",
    "    # BaggingRegressorのインスタンスを作成し、トレーニングデータにフィットさせる\n",
    "    er = BaggingRegressor(estimator=estimator, n_estimators=10, random_state=1)\n",
    "    er.fit(x_train, y_train)\n",
    "    \n",
    "    # モデルのスコアを計算して返す\n",
    "    score = er.score(x_test, y_test)\n",
    "    \n",
    "    return score"
   ]
  },
  {
   "cell_type": "code",
   "execution_count": 115,
   "metadata": {},
   "outputs": [
    {
     "name": "stdout",
     "output_type": "stream",
     "text": [
      "ExtraTreesRegressor with Bagging Score: 0.630255494683832\n",
      "RandomForestRegressor with Bagging Score: 0.5847855347407521\n",
      "GradientBoostingRegressor with Bagging Score: 0.47202883647046223\n",
      "StackingRegressor with Bagging Score: 0.5847944799282174\n",
      "HistGradientBoostingRegressor with Bagging Score: 0.5852601858256696\n",
      "4/4 [==============================] - 0s 844us/step\n",
      "Expected 9.846642070276754 and got 9.365706443786621\n",
      "Expected 12.969808110800447 and got 9.086921691894531\n",
      "Expected 10.219465944687656 and got 11.793683052062988\n",
      "Expected 8.964470615171795 and got 12.108660697937012\n",
      "Expected 24.163815269500688 and got 10.600113868713379\n",
      "Expected 9.080503576755465 and got 11.035567283630371\n",
      "Expected 11.226579427398136 and got 11.147685050964355\n",
      "Expected 12.16393488802501 and got 12.145597457885742\n",
      "Expected 9.119096921624124 and got 9.352953910827637\n",
      "Expected 10.722725587818264 and got 11.718087196350098\n",
      "Expected 9.28048829695379 and got 10.901480674743652\n",
      "Expected 8.23416624006537 and got 10.419266700744629\n",
      "Expected 10.310513323010614 and got 10.926131248474121\n",
      "Expected 10.312223623655084 and got 9.652241706848145\n",
      "Expected 9.523758107224792 and got 9.357075691223145\n",
      "Expected 16.540222624076147 and got 11.098725318908691\n",
      "Expected 10.26635836230614 and got 10.1071195602417\n",
      "Expected 9.960460143201715 and got 10.355414390563965\n",
      "Expected 9.798674201713144 and got 12.598891258239746\n",
      "Expected 17.692794386637814 and got 10.428956031799316\n",
      "Expected 6.845984641442629 and got 9.877825736999512\n",
      "Expected 11.181829173113622 and got 10.35583209991455\n",
      "Expected 7.01214258003356 and got 9.225813865661621\n",
      "Expected 10.80571038438548 and got 11.620762825012207\n",
      "Expected 9.15098055049446 and got 11.324309349060059\n",
      "Expected 7.778559436053712 and got 10.450201034545898\n",
      "Expected 12.336679714573712 and got 10.239537239074707\n",
      "Expected 7.91674065473222 and got 10.649319648742676\n",
      "Expected 16.559259400372298 and got 9.94506549835205\n",
      "Expected 9.472376584830382 and got 11.076615333557129\n",
      "Expected 19.321139247270985 and got 9.274453163146973\n",
      "Expected 28.84194956269872 and got 10.132155418395996\n",
      "Expected 8.692875638994591 and got 10.279275894165039\n",
      "Expected 29.50528272452926 and got 8.691815376281738\n",
      "Expected 13.954087113560764 and got 9.448774337768555\n",
      "Expected 10.702401740712878 and got 10.607131004333496\n",
      "Expected 18.257779990672578 and got 8.363265037536621\n",
      "Expected 7.4254683154852135 and got 9.626936912536621\n",
      "Expected 7.163683659948871 and got 10.524949073791504\n",
      "Expected 10.707289575521356 and got 12.35306453704834\n",
      "Expected 8.370557975571831 and got 9.941731452941895\n",
      "Expected 10.936889815942669 and got 11.81250286102295\n",
      "Expected 21.95580375487911 and got 10.979093551635742\n",
      "Expected 9.793774147520342 and got 11.71630573272705\n",
      "Expected 10.860294394284198 and got 9.511170387268066\n",
      "Expected 11.480668728395012 and got 12.263936996459961\n",
      "Expected 9.285125268336255 and got 11.315156936645508\n",
      "Expected 6.113177355544785 and got 9.930052757263184\n",
      "Expected 10.491892231160069 and got 10.162957191467285\n",
      "Expected 10.702987812000126 and got 11.693044662475586\n",
      "Expected 10.141614346222028 and got 12.732267379760742\n",
      "Expected 17.13329026327023 and got 11.245280265808105\n",
      "Expected 9.213359752502278 and got 10.173195838928223\n",
      "Expected 8.962255421628084 and got 11.426804542541504\n",
      "Expected 8.37749455224162 and got 10.306620597839355\n",
      "Expected 6.673844979766045 and got 8.823310852050781\n",
      "Expected 9.69518403369944 and got 11.176889419555664\n",
      "Expected 9.442568340531627 and got 11.954797744750977\n",
      "Expected 9.082386526819803 and got 9.42166805267334\n",
      "Expected 20.761879843046472 and got 9.564202308654785\n",
      "Expected 9.516734328485313 and got 11.342646598815918\n",
      "Expected 10.138283841071033 and got 12.110905647277832\n",
      "Expected 10.568109001147592 and got 8.400799751281738\n",
      "Expected 5.9232667629386295 and got 8.356730461120605\n",
      "Expected 9.78402187472676 and got 12.02823543548584\n",
      "Expected 7.503716946915186 and got 10.237593650817871\n",
      "Expected 9.590067669570052 and got 11.274042129516602\n",
      "Expected 8.960638058963065 and got 10.287077903747559\n",
      "Expected 12.906799721970208 and got 10.717750549316406\n",
      "Expected 9.003881549070293 and got 11.576531410217285\n",
      "Expected 9.688588639464983 and got 10.776714324951172\n",
      "Expected 29.159058044111557 and got 9.689242362976074\n",
      "Expected 11.557816402172824 and got 9.138489723205566\n",
      "Expected 10.1232599880239 and got 11.56255054473877\n",
      "Expected 20.101228145374872 and got 9.538958549499512\n",
      "Expected 9.663417709866398 and got 10.877689361572266\n",
      "Expected 10.031027326620945 and got 10.210606575012207\n",
      "Expected 10.089298561181767 and got 12.045275688171387\n",
      "Expected 9.365793613868139 and got 9.396623611450195\n",
      "Expected 10.312691676726484 and got 10.322272300720215\n",
      "Expected 9.779433911570553 and got 10.450518608093262\n",
      "Expected 25.294193445266 and got 11.71299934387207\n",
      "Expected 17.377207325251597 and got 10.17632007598877\n",
      "Expected 12.082764707524595 and got 7.810764312744141\n",
      "Expected 9.461909118899793 and got 10.636789321899414\n",
      "Expected 28.95416472275621 and got 10.221760749816895\n",
      "Expected 11.067314905655104 and got 10.347735404968262\n",
      "Expected 8.170476103850065 and got 10.735915184020996\n",
      "Expected 8.417180442088585 and got 10.83305835723877\n",
      "Expected 11.92400717073438 and got 12.1881742477417\n",
      "Expected 10.336851354811468 and got 9.826142311096191\n",
      "Expected 9.918477987776066 and got 9.605663299560547\n",
      "Expected 11.3420476916276 and got 9.793606758117676\n",
      "Expected 9.653152256827964 and got 12.198050498962402\n",
      "Expected 10.190424575115227 and got 12.127570152282715\n",
      "Expected 10.03087947430291 and got 12.00158405303955\n",
      "Expected 10.710110131178777 and got 10.352639198303223\n",
      "Expected 9.641128513920087 and got 11.79889965057373\n",
      "Expected 4.972891613812964 and got 8.751961708068848\n",
      "Expected 9.730769409670666 and got 10.657267570495605\n",
      "Expected 13.720644325151529 and got 10.672502517700195\n",
      "Expected 8.071094060886143 and got 10.080915451049805\n",
      "Expected 11.34376278557063 and got 11.067975044250488\n",
      "Expected 9.265228145052468 and got 10.949584007263184\n",
      "Expected 10.511957475251503 and got 10.405196189880371\n",
      "Expected 8.988828895321836 and got 10.660399436950684\n",
      "Expected 9.716949171586673 and got 11.151036262512207\n",
      "Expected 10.055644083425605 and got 11.340041160583496\n",
      "Expected 8.715546288891337 and got 10.028526306152344\n",
      "Expected 11.310826682090774 and got 10.593464851379395\n",
      "Expected 10.52662568041252 and got 9.841468811035156\n",
      "Expected 8.6159426899625 and got 10.886942863464355\n",
      "Expected 10.22752253715504 and got 11.497817039489746\n",
      "Expected 10.807426087884009 and got 11.156742095947266\n",
      "Expected 8.156844337693473 and got 10.88162612915039\n",
      "Expected 8.937699340296785 and got 11.163959503173828\n",
      "Expected 10.459884277610609 and got 10.374342918395996\n",
      "Expected 9.821119597886515 and got 10.923179626464844\n",
      "Expected 9.367551284165842 and got 10.517056465148926\n",
      "Expected 30.99050513569667 and got 10.590840339660645\n",
      "Expected 9.506186518491582 and got 12.286747932434082\n"
     ]
    }
   ],
   "source": [
    "x = x_data\n",
    "y = y_data\n",
    "\n",
    "\n",
    "# 各種モデルのバギングを実行\n",
    "extratrees = bagging_regressor(ExtraTreesRegressor(n_estimators=10, random_state=1), x_train, x_test, y_train, y_test)\n",
    "print(\"ExtraTreesRegressor with Bagging Score:\", extratrees)\n",
    "\n",
    "randomforest = bagging_regressor(RandomForestRegressor(n_estimators=10, random_state=1), x_train, x_test, y_train, y_test)\n",
    "print(\"RandomForestRegressor with Bagging Score:\", randomforest)\n",
    "\n",
    "gradientboosting = bagging_regressor(GradientBoostingRegressor(n_estimators=10, random_state=1), x_train, x_test, y_train, y_test)\n",
    "print(\"GradientBoostingRegressor with Bagging Score:\", gradientboosting)\n",
    "\n",
    "# スタッキングの例\n",
    "estimators = [\n",
    "    ('rf', RandomForestRegressor(n_estimators=10, random_state=1)),\n",
    "    ('et', ExtraTreesRegressor(n_estimators=10, random_state=1))\n",
    "]\n",
    "stacking_estimator = StackingRegressor(estimators=estimators, final_estimator=LinearRegression())\n",
    "stacking = bagging_regressor(stacking_estimator, x_train, x_test, y_train, y_test)\n",
    "print(\"StackingRegressor with Bagging Score:\", stacking)\n",
    "\n",
    "histgradientboosting = bagging_regressor(HistGradientBoostingRegressor(random_state=1), x_train, x_test, y_train, y_test)\n",
    "print(\"HistGradientBoostingRegressor with Bagging Score:\", histgradientboosting)\n",
    "neural_mse_score = neural_mse(x_train, x_test, y_train, y_test, model_path='../../script/saved_model/L1_initial_eigen')\n"
   ]
  },
  {
   "cell_type": "code",
   "execution_count": 116,
   "metadata": {},
   "outputs": [],
   "source": [
    "## これ！！\n",
    "\n",
    "def bagging_regressor(x_train,x_test,y_train,y_test):\n",
    "    X = x_train\n",
    "    y = y_train\n",
    "    er = BaggingRegressor(estimator=RandomForestRegressor(n_estimators=10),n_estimators=10)\n",
    "    er = er.fit(X, y)\n",
    "\n",
    "        # Save the model\n",
    "    with open('../saved_model/bagging_model_L1_initial.pkl', 'wb') as f:\n",
    "        pickle.dump(er, f)\n",
    "    \n",
    "\n",
    "    test_predictions = er.predict(x_test)\n",
    "    train_predictions = er.predict(x_train)\n",
    "    res = linregress(y_test, test_predictions)\n",
    "\n",
    "    max_lim = 45\n",
    "\n",
    "    plt.figure(figsize=(6,6))\n",
    "    plt.scatter(y_train, train_predictions)\n",
    "    plt.scatter(y_test, test_predictions)\n",
    "    # plt.xlabel('True Values [mc]')\n",
    "    # plt.ylabel('Predictions [mc]')\n",
    "    plt.xlabel('L1 True average of DNA volume')\n",
    "    plt.ylabel('L1 Prediction of DNA volume average')\n",
    "    plt.axis('equal')\n",
    "    plt.axis('square')\n",
    "    plt.xlim([0,max_lim])\n",
    "    plt.ylim([0,max_lim])\n",
    "    _ = plt.plot([0,max_lim], [0,max_lim])\n",
    "\n",
    "    print(er.score(x_test, y_test))\n",
    "\n",
    "    \n",
    "\n",
    "    plt.plot([0,max_lim], res.intercept + res.slope*np.array([0, max_lim]), 'r', label='fitted line')"
   ]
  },
  {
   "attachments": {},
   "cell_type": "markdown",
   "metadata": {},
   "source": []
  },
  {
   "cell_type": "code",
   "execution_count": 124,
   "metadata": {},
   "outputs": [
    {
     "name": "stdout",
     "output_type": "stream",
     "text": [
      "              regressor     score\n",
      "0            extratrees  0.630255\n",
      "1          randomforest  0.584786\n",
      "2      gradientboosting  0.472029\n",
      "3              stacking  0.584794\n",
      "4  histgradientboosting  0.585260\n",
      "5        neural network -0.124334\n",
      "DataFrame has been saved as regressor_scores_L1.pdf\n"
     ]
    }
   ],
   "source": [
    "import pandas as pd\n",
    "import matplotlib.pyplot as plt\n",
    "from matplotlib.backends.backend_pdf import PdfPages\n",
    "\n",
    "# データ\n",
    "lst = [\n",
    "    [\"extratrees\", extratrees],\n",
    "    [\"randomforest\", randomforest],\n",
    "    [\"gradientboosting\", gradientboosting],\n",
    "    [\"stacking\", stacking],\n",
    "    # [\"voting\", voting],  # コメントアウト中\n",
    "    [\"histgradientboosting\", histgradientboosting],\n",
    "    [\"neural network\", neural_mse_score]\n",
    "]\n",
    "\n",
    "# データフレームの作成\n",
    "df = pd.DataFrame(data=lst, columns=['regressor', 'score'])\n",
    "print(df)\n",
    "\n",
    "# PDFへの保存\n",
    "pdf_path = 'regressor_scores_L1.pdf'\n",
    "\n",
    "# プロットをPDFに保存するための設定\n",
    "with PdfPages(pdf_path) as pdf:\n",
    "    # データフレームをプロット\n",
    "    fig, ax = plt.subplots(figsize=(8, 6))\n",
    "    ax.axis('tight')\n",
    "    ax.axis('off')\n",
    "    table = ax.table(cellText=df.values, colLabels=df.columns, cellLoc='center', loc='center')\n",
    "\n",
    "    # テーブルのスタイル設定\n",
    "    table.auto_set_font_size(False)\n",
    "    table.set_fontsize(7)\n",
    "    table.scale(1.5, 1.5)\n",
    "\n",
    "    # セルのスタイル設定\n",
    "    for (i, j), cell in table.get_celld().items():\n",
    "        cell.set_edgecolor('grey')\n",
    "        if i == 0:  # Header row\n",
    "            cell.set_text_props(weight='bold', color='white')\n",
    "            cell.set_facecolor('#40466e')\n",
    "        else:  # Data cells\n",
    "            cell.set_facecolor('#f1f1f2')\n",
    "        cell.set_height(0.05)\n",
    "        cell.set_width(0.2)\n",
    "    \n",
    "    pdf.savefig(fig, bbox_inches='tight')\n",
    "    plt.close()\n",
    "\n",
    "print(f\"DataFrame has been saved as {pdf_path}\")\n"
   ]
  },
  {
   "cell_type": "code",
   "execution_count": 121,
   "metadata": {},
   "outputs": [
    {
     "data": {
      "image/png": "[encoded data removed]",
      "text/plain": [
       "<Figure size 600x600 with 1 Axes>"
      ]
     },
     "metadata": {},
     "output_type": "display_data"
    }
   ],
   "source": [
    "def randomforest_regressor(x_train, x_test, y_train, y_test):\n",
    "    regr = RandomForestRegressor(max_depth=2,n_estimators=10)\n",
    "    regr.fit(x_train, y_train)\n",
    "\n",
    "    test_predictions = regr.predict(x_test).flatten()\n",
    "    train_predictions = regr.predict(x_train).flatten()\n",
    "    res = linregress(y_test, test_predictions)\n",
    "\n",
    "    plt.figure(figsize=(6,6))\n",
    "    plt.scatter(y_test, test_predictions)\n",
    "    plt.scatter(y_train, train_predictions)\n",
    "    # plt.xlabel('True Values [mc]')\n",
    "    # plt.ylabel('Predictions [mc]')\n",
    "    plt.xlabel('L1 True average of DNA volume')\n",
    "    plt.ylabel('L1 Prediction of DNA volume average')\n",
    "    plt.axis('equal')\n",
    "    plt.axis('square')\n",
    "    plt.xlim([0,20])\n",
    "    plt.ylim([0,20])\n",
    "    _ = plt.plot([0,20], [0,20])\n",
    "\n",
    "    plt.plot([0,20], res.intercept + res.slope*np.array([0, 20]), 'r', label='fitted line')\n",
    "\n",
    "        # Save the model\n",
    "    with open('../saved_model/randomforest_model_l1.pkl', 'wb') as f:\n",
    "        pickle.dump(regr, f)\n",
    "randomforest_regressor(x_train, x_test, y_train, y_test)"
   ]
  },
  {
   "cell_type": "code",
   "execution_count": 101,
   "metadata": {},
   "outputs": [
    {
     "ename": "AttributeError",
     "evalue": "'NoneType' object has no attribute 'split'",
     "output_type": "error",
     "traceback": [
      "\u001b[0;31m---------------------------------------------------------------------------\u001b[0m",
      "\u001b[0;31mAttributeError\u001b[0m                            Traceback (most recent call last)",
      "Cell \u001b[0;32mIn[101], line 33\u001b[0m\n\u001b[1;32m     28\u001b[0m     plt\u001b[38;5;241m.\u001b[39mplot([\u001b[38;5;241m0\u001b[39m,\u001b[38;5;241m20\u001b[39m], res\u001b[38;5;241m.\u001b[39mintercept \u001b[38;5;241m+\u001b[39m res\u001b[38;5;241m.\u001b[39mslope\u001b[38;5;241m*\u001b[39mnp\u001b[38;5;241m.\u001b[39marray([\u001b[38;5;241m0\u001b[39m, \u001b[38;5;241m20\u001b[39m]), \u001b[38;5;124m'\u001b[39m\u001b[38;5;124mr\u001b[39m\u001b[38;5;124m'\u001b[39m, label\u001b[38;5;241m=\u001b[39m\u001b[38;5;124m'\u001b[39m\u001b[38;5;124mfitted line\u001b[39m\u001b[38;5;124m'\u001b[39m)\n\u001b[1;32m     30\u001b[0m         \u001b[38;5;66;03m# Save the model\u001b[39;00m\n\u001b[1;32m     31\u001b[0m     \u001b[38;5;66;03m#with open('../saved_model/randomforest_model_l1.pkl', 'wb') as f:\u001b[39;00m\n\u001b[1;32m     32\u001b[0m     \u001b[38;5;66;03m#    pickle.dump(regr, f)\u001b[39;00m\n\u001b[0;32m---> 33\u001b[0m \u001b[43mvoting_regressor\u001b[49m\u001b[43m(\u001b[49m\u001b[43mx_train\u001b[49m\u001b[43m,\u001b[49m\u001b[43m \u001b[49m\u001b[43mx_test\u001b[49m\u001b[43m,\u001b[49m\u001b[43m \u001b[49m\u001b[43my_train\u001b[49m\u001b[43m,\u001b[49m\u001b[43m \u001b[49m\u001b[43my_test\u001b[49m\u001b[43m)\u001b[49m\n",
      "Cell \u001b[0;32mIn[101], line 11\u001b[0m, in \u001b[0;36mvoting_regressor\u001b[0;34m(x_train, x_test, y_train, y_test)\u001b[0m\n\u001b[1;32m      7\u001b[0m er \u001b[38;5;241m=\u001b[39m VotingRegressor([(\u001b[38;5;124m'\u001b[39m\u001b[38;5;124mlr\u001b[39m\u001b[38;5;124m'\u001b[39m, r1), (\u001b[38;5;124m'\u001b[39m\u001b[38;5;124mrf\u001b[39m\u001b[38;5;124m'\u001b[39m, r2), (\u001b[38;5;124m'\u001b[39m\u001b[38;5;124mr3\u001b[39m\u001b[38;5;124m'\u001b[39m, r3)])\n\u001b[1;32m      8\u001b[0m er \u001b[38;5;241m=\u001b[39m er\u001b[38;5;241m.\u001b[39mfit(X, y)\n\u001b[0;32m---> 11\u001b[0m test_predictions \u001b[38;5;241m=\u001b[39m \u001b[43mer\u001b[49m\u001b[38;5;241;43m.\u001b[39;49m\u001b[43mpredict\u001b[49m\u001b[43m(\u001b[49m\u001b[43mx_test\u001b[49m\u001b[43m)\u001b[49m\n\u001b[1;32m     12\u001b[0m train_predictions \u001b[38;5;241m=\u001b[39m er\u001b[38;5;241m.\u001b[39mpredict(x_train)\n\u001b[1;32m     13\u001b[0m res \u001b[38;5;241m=\u001b[39m linregress(y_test, test_predictions)\n",
      "File \u001b[0;32m~/opt/anaconda3/lib/python3.9/site-packages/sklearn/ensemble/_voting.py:617\u001b[0m, in \u001b[0;36mVotingRegressor.predict\u001b[0;34m(self, X)\u001b[0m\n\u001b[1;32m    601\u001b[0m \u001b[38;5;124;03m\"\"\"Predict regression target for X.\u001b[39;00m\n\u001b[1;32m    602\u001b[0m \n\u001b[1;32m    603\u001b[0m \u001b[38;5;124;03mThe predicted regression target of an input sample is computed as the\u001b[39;00m\n\u001b[0;32m   (...)\u001b[0m\n\u001b[1;32m    614\u001b[0m \u001b[38;5;124;03m    The predicted values.\u001b[39;00m\n\u001b[1;32m    615\u001b[0m \u001b[38;5;124;03m\"\"\"\u001b[39;00m\n\u001b[1;32m    616\u001b[0m check_is_fitted(\u001b[38;5;28mself\u001b[39m)\n\u001b[0;32m--> 617\u001b[0m \u001b[38;5;28;01mreturn\u001b[39;00m np\u001b[38;5;241m.\u001b[39maverage(\u001b[38;5;28;43mself\u001b[39;49m\u001b[38;5;241;43m.\u001b[39;49m\u001b[43m_predict\u001b[49m\u001b[43m(\u001b[49m\u001b[43mX\u001b[49m\u001b[43m)\u001b[49m, axis\u001b[38;5;241m=\u001b[39m\u001b[38;5;241m1\u001b[39m, weights\u001b[38;5;241m=\u001b[39m\u001b[38;5;28mself\u001b[39m\u001b[38;5;241m.\u001b[39m_weights_not_none)\n",
      "File \u001b[0;32m~/opt/anaconda3/lib/python3.9/site-packages/sklearn/ensemble/_voting.py:68\u001b[0m, in \u001b[0;36m_BaseVoting._predict\u001b[0;34m(self, X)\u001b[0m\n\u001b[1;32m     66\u001b[0m \u001b[38;5;28;01mdef\u001b[39;00m \u001b[38;5;21m_predict\u001b[39m(\u001b[38;5;28mself\u001b[39m, X):\n\u001b[1;32m     67\u001b[0m     \u001b[38;5;124;03m\"\"\"Collect results from clf.predict calls.\"\"\"\u001b[39;00m\n\u001b[0;32m---> 68\u001b[0m     \u001b[38;5;28;01mreturn\u001b[39;00m np\u001b[38;5;241m.\u001b[39masarray([est\u001b[38;5;241m.\u001b[39mpredict(X) \u001b[38;5;28;01mfor\u001b[39;00m est \u001b[38;5;129;01min\u001b[39;00m \u001b[38;5;28mself\u001b[39m\u001b[38;5;241m.\u001b[39mestimators_])\u001b[38;5;241m.\u001b[39mT\n",
      "File \u001b[0;32m~/opt/anaconda3/lib/python3.9/site-packages/sklearn/ensemble/_voting.py:68\u001b[0m, in \u001b[0;36m<listcomp>\u001b[0;34m(.0)\u001b[0m\n\u001b[1;32m     66\u001b[0m \u001b[38;5;28;01mdef\u001b[39;00m \u001b[38;5;21m_predict\u001b[39m(\u001b[38;5;28mself\u001b[39m, X):\n\u001b[1;32m     67\u001b[0m     \u001b[38;5;124;03m\"\"\"Collect results from clf.predict calls.\"\"\"\u001b[39;00m\n\u001b[0;32m---> 68\u001b[0m     \u001b[38;5;28;01mreturn\u001b[39;00m np\u001b[38;5;241m.\u001b[39masarray([\u001b[43mest\u001b[49m\u001b[38;5;241;43m.\u001b[39;49m\u001b[43mpredict\u001b[49m\u001b[43m(\u001b[49m\u001b[43mX\u001b[49m\u001b[43m)\u001b[49m \u001b[38;5;28;01mfor\u001b[39;00m est \u001b[38;5;129;01min\u001b[39;00m \u001b[38;5;28mself\u001b[39m\u001b[38;5;241m.\u001b[39mestimators_])\u001b[38;5;241m.\u001b[39mT\n",
      "File \u001b[0;32m~/opt/anaconda3/lib/python3.9/site-packages/sklearn/neighbors/_regression.py:236\u001b[0m, in \u001b[0;36mKNeighborsRegressor.predict\u001b[0;34m(self, X)\u001b[0m\n\u001b[1;32m    220\u001b[0m \u001b[38;5;124;03m\"\"\"Predict the target for the provided data.\u001b[39;00m\n\u001b[1;32m    221\u001b[0m \n\u001b[1;32m    222\u001b[0m \u001b[38;5;124;03mParameters\u001b[39;00m\n\u001b[0;32m   (...)\u001b[0m\n\u001b[1;32m    231\u001b[0m \u001b[38;5;124;03m    Target values.\u001b[39;00m\n\u001b[1;32m    232\u001b[0m \u001b[38;5;124;03m\"\"\"\u001b[39;00m\n\u001b[1;32m    233\u001b[0m \u001b[38;5;28;01mif\u001b[39;00m \u001b[38;5;28mself\u001b[39m\u001b[38;5;241m.\u001b[39mweights \u001b[38;5;241m==\u001b[39m \u001b[38;5;124m\"\u001b[39m\u001b[38;5;124muniform\u001b[39m\u001b[38;5;124m\"\u001b[39m:\n\u001b[1;32m    234\u001b[0m     \u001b[38;5;66;03m# In that case, we do not need the distances to perform\u001b[39;00m\n\u001b[1;32m    235\u001b[0m     \u001b[38;5;66;03m# the weighting so we do not compute them.\u001b[39;00m\n\u001b[0;32m--> 236\u001b[0m     neigh_ind \u001b[38;5;241m=\u001b[39m \u001b[38;5;28;43mself\u001b[39;49m\u001b[38;5;241;43m.\u001b[39;49m\u001b[43mkneighbors\u001b[49m\u001b[43m(\u001b[49m\u001b[43mX\u001b[49m\u001b[43m,\u001b[49m\u001b[43m \u001b[49m\u001b[43mreturn_distance\u001b[49m\u001b[38;5;241;43m=\u001b[39;49m\u001b[38;5;28;43;01mFalse\u001b[39;49;00m\u001b[43m)\u001b[49m\n\u001b[1;32m    237\u001b[0m     neigh_dist \u001b[38;5;241m=\u001b[39m \u001b[38;5;28;01mNone\u001b[39;00m\n\u001b[1;32m    238\u001b[0m \u001b[38;5;28;01melse\u001b[39;00m:\n",
      "File \u001b[0;32m~/opt/anaconda3/lib/python3.9/site-packages/sklearn/neighbors/_base.py:824\u001b[0m, in \u001b[0;36mKNeighborsMixin.kneighbors\u001b[0;34m(self, X, n_neighbors, return_distance)\u001b[0m\n\u001b[1;32m    817\u001b[0m use_pairwise_distances_reductions \u001b[38;5;241m=\u001b[39m (\n\u001b[1;32m    818\u001b[0m     \u001b[38;5;28mself\u001b[39m\u001b[38;5;241m.\u001b[39m_fit_method \u001b[38;5;241m==\u001b[39m \u001b[38;5;124m\"\u001b[39m\u001b[38;5;124mbrute\u001b[39m\u001b[38;5;124m\"\u001b[39m\n\u001b[1;32m    819\u001b[0m     \u001b[38;5;129;01mand\u001b[39;00m ArgKmin\u001b[38;5;241m.\u001b[39mis_usable_for(\n\u001b[1;32m    820\u001b[0m         X \u001b[38;5;28;01mif\u001b[39;00m X \u001b[38;5;129;01mis\u001b[39;00m \u001b[38;5;129;01mnot\u001b[39;00m \u001b[38;5;28;01mNone\u001b[39;00m \u001b[38;5;28;01melse\u001b[39;00m \u001b[38;5;28mself\u001b[39m\u001b[38;5;241m.\u001b[39m_fit_X, \u001b[38;5;28mself\u001b[39m\u001b[38;5;241m.\u001b[39m_fit_X, \u001b[38;5;28mself\u001b[39m\u001b[38;5;241m.\u001b[39meffective_metric_\n\u001b[1;32m    821\u001b[0m     )\n\u001b[1;32m    822\u001b[0m )\n\u001b[1;32m    823\u001b[0m \u001b[38;5;28;01mif\u001b[39;00m use_pairwise_distances_reductions:\n\u001b[0;32m--> 824\u001b[0m     results \u001b[38;5;241m=\u001b[39m \u001b[43mArgKmin\u001b[49m\u001b[38;5;241;43m.\u001b[39;49m\u001b[43mcompute\u001b[49m\u001b[43m(\u001b[49m\n\u001b[1;32m    825\u001b[0m \u001b[43m        \u001b[49m\u001b[43mX\u001b[49m\u001b[38;5;241;43m=\u001b[39;49m\u001b[43mX\u001b[49m\u001b[43m,\u001b[49m\n\u001b[1;32m    826\u001b[0m \u001b[43m        \u001b[49m\u001b[43mY\u001b[49m\u001b[38;5;241;43m=\u001b[39;49m\u001b[38;5;28;43mself\u001b[39;49m\u001b[38;5;241;43m.\u001b[39;49m\u001b[43m_fit_X\u001b[49m\u001b[43m,\u001b[49m\n\u001b[1;32m    827\u001b[0m \u001b[43m        \u001b[49m\u001b[43mk\u001b[49m\u001b[38;5;241;43m=\u001b[39;49m\u001b[43mn_neighbors\u001b[49m\u001b[43m,\u001b[49m\n\u001b[1;32m    828\u001b[0m \u001b[43m        \u001b[49m\u001b[43mmetric\u001b[49m\u001b[38;5;241;43m=\u001b[39;49m\u001b[38;5;28;43mself\u001b[39;49m\u001b[38;5;241;43m.\u001b[39;49m\u001b[43meffective_metric_\u001b[49m\u001b[43m,\u001b[49m\n\u001b[1;32m    829\u001b[0m \u001b[43m        \u001b[49m\u001b[43mmetric_kwargs\u001b[49m\u001b[38;5;241;43m=\u001b[39;49m\u001b[38;5;28;43mself\u001b[39;49m\u001b[38;5;241;43m.\u001b[39;49m\u001b[43meffective_metric_params_\u001b[49m\u001b[43m,\u001b[49m\n\u001b[1;32m    830\u001b[0m \u001b[43m        \u001b[49m\u001b[43mstrategy\u001b[49m\u001b[38;5;241;43m=\u001b[39;49m\u001b[38;5;124;43m\"\u001b[39;49m\u001b[38;5;124;43mauto\u001b[39;49m\u001b[38;5;124;43m\"\u001b[39;49m\u001b[43m,\u001b[49m\n\u001b[1;32m    831\u001b[0m \u001b[43m        \u001b[49m\u001b[43mreturn_distance\u001b[49m\u001b[38;5;241;43m=\u001b[39;49m\u001b[43mreturn_distance\u001b[49m\u001b[43m,\u001b[49m\n\u001b[1;32m    832\u001b[0m \u001b[43m    \u001b[49m\u001b[43m)\u001b[49m\n\u001b[1;32m    834\u001b[0m \u001b[38;5;28;01melif\u001b[39;00m (\n\u001b[1;32m    835\u001b[0m     \u001b[38;5;28mself\u001b[39m\u001b[38;5;241m.\u001b[39m_fit_method \u001b[38;5;241m==\u001b[39m \u001b[38;5;124m\"\u001b[39m\u001b[38;5;124mbrute\u001b[39m\u001b[38;5;124m\"\u001b[39m \u001b[38;5;129;01mand\u001b[39;00m \u001b[38;5;28mself\u001b[39m\u001b[38;5;241m.\u001b[39mmetric \u001b[38;5;241m==\u001b[39m \u001b[38;5;124m\"\u001b[39m\u001b[38;5;124mprecomputed\u001b[39m\u001b[38;5;124m\"\u001b[39m \u001b[38;5;129;01mand\u001b[39;00m issparse(X)\n\u001b[1;32m    836\u001b[0m ):\n\u001b[1;32m    837\u001b[0m     results \u001b[38;5;241m=\u001b[39m _kneighbors_from_graph(\n\u001b[1;32m    838\u001b[0m         X, n_neighbors\u001b[38;5;241m=\u001b[39mn_neighbors, return_distance\u001b[38;5;241m=\u001b[39mreturn_distance\n\u001b[1;32m    839\u001b[0m     )\n",
      "File \u001b[0;32m~/opt/anaconda3/lib/python3.9/site-packages/sklearn/metrics/_pairwise_distances_reduction/_dispatcher.py:277\u001b[0m, in \u001b[0;36mArgKmin.compute\u001b[0;34m(cls, X, Y, k, metric, chunk_size, metric_kwargs, strategy, return_distance)\u001b[0m\n\u001b[1;32m    196\u001b[0m \u001b[38;5;124;03m\"\"\"Compute the argkmin reduction.\u001b[39;00m\n\u001b[1;32m    197\u001b[0m \n\u001b[1;32m    198\u001b[0m \u001b[38;5;124;03mParameters\u001b[39;00m\n\u001b[0;32m   (...)\u001b[0m\n\u001b[1;32m    274\u001b[0m \u001b[38;5;124;03mreturns.\u001b[39;00m\n\u001b[1;32m    275\u001b[0m \u001b[38;5;124;03m\"\"\"\u001b[39;00m\n\u001b[1;32m    276\u001b[0m \u001b[38;5;28;01mif\u001b[39;00m X\u001b[38;5;241m.\u001b[39mdtype \u001b[38;5;241m==\u001b[39m Y\u001b[38;5;241m.\u001b[39mdtype \u001b[38;5;241m==\u001b[39m np\u001b[38;5;241m.\u001b[39mfloat64:\n\u001b[0;32m--> 277\u001b[0m     \u001b[38;5;28;01mreturn\u001b[39;00m \u001b[43mArgKmin64\u001b[49m\u001b[38;5;241;43m.\u001b[39;49m\u001b[43mcompute\u001b[49m\u001b[43m(\u001b[49m\n\u001b[1;32m    278\u001b[0m \u001b[43m        \u001b[49m\u001b[43mX\u001b[49m\u001b[38;5;241;43m=\u001b[39;49m\u001b[43mX\u001b[49m\u001b[43m,\u001b[49m\n\u001b[1;32m    279\u001b[0m \u001b[43m        \u001b[49m\u001b[43mY\u001b[49m\u001b[38;5;241;43m=\u001b[39;49m\u001b[43mY\u001b[49m\u001b[43m,\u001b[49m\n\u001b[1;32m    280\u001b[0m \u001b[43m        \u001b[49m\u001b[43mk\u001b[49m\u001b[38;5;241;43m=\u001b[39;49m\u001b[43mk\u001b[49m\u001b[43m,\u001b[49m\n\u001b[1;32m    281\u001b[0m \u001b[43m        \u001b[49m\u001b[43mmetric\u001b[49m\u001b[38;5;241;43m=\u001b[39;49m\u001b[43mmetric\u001b[49m\u001b[43m,\u001b[49m\n\u001b[1;32m    282\u001b[0m \u001b[43m        \u001b[49m\u001b[43mchunk_size\u001b[49m\u001b[38;5;241;43m=\u001b[39;49m\u001b[43mchunk_size\u001b[49m\u001b[43m,\u001b[49m\n\u001b[1;32m    283\u001b[0m \u001b[43m        \u001b[49m\u001b[43mmetric_kwargs\u001b[49m\u001b[38;5;241;43m=\u001b[39;49m\u001b[43mmetric_kwargs\u001b[49m\u001b[43m,\u001b[49m\n\u001b[1;32m    284\u001b[0m \u001b[43m        \u001b[49m\u001b[43mstrategy\u001b[49m\u001b[38;5;241;43m=\u001b[39;49m\u001b[43mstrategy\u001b[49m\u001b[43m,\u001b[49m\n\u001b[1;32m    285\u001b[0m \u001b[43m        \u001b[49m\u001b[43mreturn_distance\u001b[49m\u001b[38;5;241;43m=\u001b[39;49m\u001b[43mreturn_distance\u001b[49m\u001b[43m,\u001b[49m\n\u001b[1;32m    286\u001b[0m \u001b[43m    \u001b[49m\u001b[43m)\u001b[49m\n\u001b[1;32m    288\u001b[0m \u001b[38;5;28;01mif\u001b[39;00m X\u001b[38;5;241m.\u001b[39mdtype \u001b[38;5;241m==\u001b[39m Y\u001b[38;5;241m.\u001b[39mdtype \u001b[38;5;241m==\u001b[39m np\u001b[38;5;241m.\u001b[39mfloat32:\n\u001b[1;32m    289\u001b[0m     \u001b[38;5;28;01mreturn\u001b[39;00m ArgKmin32\u001b[38;5;241m.\u001b[39mcompute(\n\u001b[1;32m    290\u001b[0m         X\u001b[38;5;241m=\u001b[39mX,\n\u001b[1;32m    291\u001b[0m         Y\u001b[38;5;241m=\u001b[39mY,\n\u001b[0;32m   (...)\u001b[0m\n\u001b[1;32m    297\u001b[0m         return_distance\u001b[38;5;241m=\u001b[39mreturn_distance,\n\u001b[1;32m    298\u001b[0m     )\n",
      "File \u001b[0;32msklearn/metrics/_pairwise_distances_reduction/_argkmin.pyx:95\u001b[0m, in \u001b[0;36msklearn.metrics._pairwise_distances_reduction._argkmin.ArgKmin64.compute\u001b[0;34m()\u001b[0m\n",
      "File \u001b[0;32m~/opt/anaconda3/lib/python3.9/site-packages/sklearn/utils/fixes.py:139\u001b[0m, in \u001b[0;36mthreadpool_limits\u001b[0;34m(limits, user_api)\u001b[0m\n\u001b[1;32m    137\u001b[0m     \u001b[38;5;28;01mreturn\u001b[39;00m controller\u001b[38;5;241m.\u001b[39mlimit(limits\u001b[38;5;241m=\u001b[39mlimits, user_api\u001b[38;5;241m=\u001b[39muser_api)\n\u001b[1;32m    138\u001b[0m \u001b[38;5;28;01melse\u001b[39;00m:\n\u001b[0;32m--> 139\u001b[0m     \u001b[38;5;28;01mreturn\u001b[39;00m \u001b[43mthreadpoolctl\u001b[49m\u001b[38;5;241;43m.\u001b[39;49m\u001b[43mthreadpool_limits\u001b[49m\u001b[43m(\u001b[49m\u001b[43mlimits\u001b[49m\u001b[38;5;241;43m=\u001b[39;49m\u001b[43mlimits\u001b[49m\u001b[43m,\u001b[49m\u001b[43m \u001b[49m\u001b[43muser_api\u001b[49m\u001b[38;5;241;43m=\u001b[39;49m\u001b[43muser_api\u001b[49m\u001b[43m)\u001b[49m\n",
      "File \u001b[0;32m~/opt/anaconda3/lib/python3.9/site-packages/threadpoolctl.py:171\u001b[0m, in \u001b[0;36mthreadpool_limits.__init__\u001b[0;34m(self, limits, user_api)\u001b[0m\n\u001b[1;32m    167\u001b[0m \u001b[38;5;28;01mdef\u001b[39;00m \u001b[38;5;21m__init__\u001b[39m(\u001b[38;5;28mself\u001b[39m, limits\u001b[38;5;241m=\u001b[39m\u001b[38;5;28;01mNone\u001b[39;00m, user_api\u001b[38;5;241m=\u001b[39m\u001b[38;5;28;01mNone\u001b[39;00m):\n\u001b[1;32m    168\u001b[0m     \u001b[38;5;28mself\u001b[39m\u001b[38;5;241m.\u001b[39m_limits, \u001b[38;5;28mself\u001b[39m\u001b[38;5;241m.\u001b[39m_user_api, \u001b[38;5;28mself\u001b[39m\u001b[38;5;241m.\u001b[39m_prefixes \u001b[38;5;241m=\u001b[39m \\\n\u001b[1;32m    169\u001b[0m         \u001b[38;5;28mself\u001b[39m\u001b[38;5;241m.\u001b[39m_check_params(limits, user_api)\n\u001b[0;32m--> 171\u001b[0m     \u001b[38;5;28mself\u001b[39m\u001b[38;5;241m.\u001b[39m_original_info \u001b[38;5;241m=\u001b[39m \u001b[38;5;28;43mself\u001b[39;49m\u001b[38;5;241;43m.\u001b[39;49m\u001b[43m_set_threadpool_limits\u001b[49m\u001b[43m(\u001b[49m\u001b[43m)\u001b[49m\n",
      "File \u001b[0;32m~/opt/anaconda3/lib/python3.9/site-packages/threadpoolctl.py:268\u001b[0m, in \u001b[0;36mthreadpool_limits._set_threadpool_limits\u001b[0;34m(self)\u001b[0m\n\u001b[1;32m    265\u001b[0m \u001b[38;5;28;01mif\u001b[39;00m \u001b[38;5;28mself\u001b[39m\u001b[38;5;241m.\u001b[39m_limits \u001b[38;5;129;01mis\u001b[39;00m \u001b[38;5;28;01mNone\u001b[39;00m:\n\u001b[1;32m    266\u001b[0m     \u001b[38;5;28;01mreturn\u001b[39;00m \u001b[38;5;28;01mNone\u001b[39;00m\n\u001b[0;32m--> 268\u001b[0m modules \u001b[38;5;241m=\u001b[39m \u001b[43m_ThreadpoolInfo\u001b[49m\u001b[43m(\u001b[49m\u001b[43mprefixes\u001b[49m\u001b[38;5;241;43m=\u001b[39;49m\u001b[38;5;28;43mself\u001b[39;49m\u001b[38;5;241;43m.\u001b[39;49m\u001b[43m_prefixes\u001b[49m\u001b[43m,\u001b[49m\n\u001b[1;32m    269\u001b[0m \u001b[43m                          \u001b[49m\u001b[43muser_api\u001b[49m\u001b[38;5;241;43m=\u001b[39;49m\u001b[38;5;28;43mself\u001b[39;49m\u001b[38;5;241;43m.\u001b[39;49m\u001b[43m_user_api\u001b[49m\u001b[43m)\u001b[49m\n\u001b[1;32m    270\u001b[0m \u001b[38;5;28;01mfor\u001b[39;00m module \u001b[38;5;129;01min\u001b[39;00m modules:\n\u001b[1;32m    271\u001b[0m     \u001b[38;5;66;03m# self._limits is a dict {key: num_threads} where key is either\u001b[39;00m\n\u001b[1;32m    272\u001b[0m     \u001b[38;5;66;03m# a prefix or a user_api. If a module matches both, the limit\u001b[39;00m\n\u001b[1;32m    273\u001b[0m     \u001b[38;5;66;03m# corresponding to the prefix is chosed.\u001b[39;00m\n\u001b[1;32m    274\u001b[0m     \u001b[38;5;28;01mif\u001b[39;00m module\u001b[38;5;241m.\u001b[39mprefix \u001b[38;5;129;01min\u001b[39;00m \u001b[38;5;28mself\u001b[39m\u001b[38;5;241m.\u001b[39m_limits:\n",
      "File \u001b[0;32m~/opt/anaconda3/lib/python3.9/site-packages/threadpoolctl.py:340\u001b[0m, in \u001b[0;36m_ThreadpoolInfo.__init__\u001b[0;34m(self, user_api, prefixes, modules)\u001b[0m\n\u001b[1;32m    337\u001b[0m     \u001b[38;5;28mself\u001b[39m\u001b[38;5;241m.\u001b[39muser_api \u001b[38;5;241m=\u001b[39m [] \u001b[38;5;28;01mif\u001b[39;00m user_api \u001b[38;5;129;01mis\u001b[39;00m \u001b[38;5;28;01mNone\u001b[39;00m \u001b[38;5;28;01melse\u001b[39;00m user_api\n\u001b[1;32m    339\u001b[0m     \u001b[38;5;28mself\u001b[39m\u001b[38;5;241m.\u001b[39mmodules \u001b[38;5;241m=\u001b[39m []\n\u001b[0;32m--> 340\u001b[0m     \u001b[38;5;28;43mself\u001b[39;49m\u001b[38;5;241;43m.\u001b[39;49m\u001b[43m_load_modules\u001b[49m\u001b[43m(\u001b[49m\u001b[43m)\u001b[49m\n\u001b[1;32m    341\u001b[0m     \u001b[38;5;28mself\u001b[39m\u001b[38;5;241m.\u001b[39m_warn_if_incompatible_openmp()\n\u001b[1;32m    342\u001b[0m \u001b[38;5;28;01melse\u001b[39;00m:\n",
      "File \u001b[0;32m~/opt/anaconda3/lib/python3.9/site-packages/threadpoolctl.py:371\u001b[0m, in \u001b[0;36m_ThreadpoolInfo._load_modules\u001b[0;34m(self)\u001b[0m\n\u001b[1;32m    369\u001b[0m \u001b[38;5;124;03m\"\"\"Loop through loaded libraries and store supported ones\"\"\"\u001b[39;00m\n\u001b[1;32m    370\u001b[0m \u001b[38;5;28;01mif\u001b[39;00m sys\u001b[38;5;241m.\u001b[39mplatform \u001b[38;5;241m==\u001b[39m \u001b[38;5;124m\"\u001b[39m\u001b[38;5;124mdarwin\u001b[39m\u001b[38;5;124m\"\u001b[39m:\n\u001b[0;32m--> 371\u001b[0m     \u001b[38;5;28;43mself\u001b[39;49m\u001b[38;5;241;43m.\u001b[39;49m\u001b[43m_find_modules_with_dyld\u001b[49m\u001b[43m(\u001b[49m\u001b[43m)\u001b[49m\n\u001b[1;32m    372\u001b[0m \u001b[38;5;28;01melif\u001b[39;00m sys\u001b[38;5;241m.\u001b[39mplatform \u001b[38;5;241m==\u001b[39m \u001b[38;5;124m\"\u001b[39m\u001b[38;5;124mwin32\u001b[39m\u001b[38;5;124m\"\u001b[39m:\n\u001b[1;32m    373\u001b[0m     \u001b[38;5;28mself\u001b[39m\u001b[38;5;241m.\u001b[39m_find_modules_with_enum_process_module_ex()\n",
      "File \u001b[0;32m~/opt/anaconda3/lib/python3.9/site-packages/threadpoolctl.py:428\u001b[0m, in \u001b[0;36m_ThreadpoolInfo._find_modules_with_dyld\u001b[0;34m(self)\u001b[0m\n\u001b[1;32m    425\u001b[0m filepath \u001b[38;5;241m=\u001b[39m filepath\u001b[38;5;241m.\u001b[39mdecode(\u001b[38;5;124m\"\u001b[39m\u001b[38;5;124mutf-8\u001b[39m\u001b[38;5;124m\"\u001b[39m)\n\u001b[1;32m    427\u001b[0m \u001b[38;5;66;03m# Store the module if it is supported and selected\u001b[39;00m\n\u001b[0;32m--> 428\u001b[0m \u001b[38;5;28;43mself\u001b[39;49m\u001b[38;5;241;43m.\u001b[39;49m\u001b[43m_make_module_from_path\u001b[49m\u001b[43m(\u001b[49m\u001b[43mfilepath\u001b[49m\u001b[43m)\u001b[49m\n",
      "File \u001b[0;32m~/opt/anaconda3/lib/python3.9/site-packages/threadpoolctl.py:515\u001b[0m, in \u001b[0;36m_ThreadpoolInfo._make_module_from_path\u001b[0;34m(self, filepath)\u001b[0m\n\u001b[1;32m    513\u001b[0m \u001b[38;5;28;01mif\u001b[39;00m prefix \u001b[38;5;129;01min\u001b[39;00m \u001b[38;5;28mself\u001b[39m\u001b[38;5;241m.\u001b[39mprefixes \u001b[38;5;129;01mor\u001b[39;00m user_api \u001b[38;5;129;01min\u001b[39;00m \u001b[38;5;28mself\u001b[39m\u001b[38;5;241m.\u001b[39muser_api:\n\u001b[1;32m    514\u001b[0m     module_class \u001b[38;5;241m=\u001b[39m \u001b[38;5;28mglobals\u001b[39m()[module_class]\n\u001b[0;32m--> 515\u001b[0m     module \u001b[38;5;241m=\u001b[39m \u001b[43mmodule_class\u001b[49m\u001b[43m(\u001b[49m\u001b[43mfilepath\u001b[49m\u001b[43m,\u001b[49m\u001b[43m \u001b[49m\u001b[43mprefix\u001b[49m\u001b[43m,\u001b[49m\u001b[43m \u001b[49m\u001b[43muser_api\u001b[49m\u001b[43m,\u001b[49m\u001b[43m \u001b[49m\u001b[43minternal_api\u001b[49m\u001b[43m)\u001b[49m\n\u001b[1;32m    516\u001b[0m     \u001b[38;5;28mself\u001b[39m\u001b[38;5;241m.\u001b[39mmodules\u001b[38;5;241m.\u001b[39mappend(module)\n",
      "File \u001b[0;32m~/opt/anaconda3/lib/python3.9/site-packages/threadpoolctl.py:606\u001b[0m, in \u001b[0;36m_Module.__init__\u001b[0;34m(self, filepath, prefix, user_api, internal_api)\u001b[0m\n\u001b[1;32m    604\u001b[0m \u001b[38;5;28mself\u001b[39m\u001b[38;5;241m.\u001b[39minternal_api \u001b[38;5;241m=\u001b[39m internal_api\n\u001b[1;32m    605\u001b[0m \u001b[38;5;28mself\u001b[39m\u001b[38;5;241m.\u001b[39m_dynlib \u001b[38;5;241m=\u001b[39m ctypes\u001b[38;5;241m.\u001b[39mCDLL(filepath, mode\u001b[38;5;241m=\u001b[39m_RTLD_NOLOAD)\n\u001b[0;32m--> 606\u001b[0m \u001b[38;5;28mself\u001b[39m\u001b[38;5;241m.\u001b[39mversion \u001b[38;5;241m=\u001b[39m \u001b[38;5;28;43mself\u001b[39;49m\u001b[38;5;241;43m.\u001b[39;49m\u001b[43mget_version\u001b[49m\u001b[43m(\u001b[49m\u001b[43m)\u001b[49m\n\u001b[1;32m    607\u001b[0m \u001b[38;5;28mself\u001b[39m\u001b[38;5;241m.\u001b[39mnum_threads \u001b[38;5;241m=\u001b[39m \u001b[38;5;28mself\u001b[39m\u001b[38;5;241m.\u001b[39mget_num_threads()\n\u001b[1;32m    608\u001b[0m \u001b[38;5;28mself\u001b[39m\u001b[38;5;241m.\u001b[39m_get_extra_info()\n",
      "File \u001b[0;32m~/opt/anaconda3/lib/python3.9/site-packages/threadpoolctl.py:646\u001b[0m, in \u001b[0;36m_OpenBLASModule.get_version\u001b[0;34m(self)\u001b[0m\n\u001b[1;32m    643\u001b[0m get_config \u001b[38;5;241m=\u001b[39m \u001b[38;5;28mgetattr\u001b[39m(\u001b[38;5;28mself\u001b[39m\u001b[38;5;241m.\u001b[39m_dynlib, \u001b[38;5;124m\"\u001b[39m\u001b[38;5;124mopenblas_get_config\u001b[39m\u001b[38;5;124m\"\u001b[39m,\n\u001b[1;32m    644\u001b[0m                      \u001b[38;5;28;01mlambda\u001b[39;00m: \u001b[38;5;28;01mNone\u001b[39;00m)\n\u001b[1;32m    645\u001b[0m get_config\u001b[38;5;241m.\u001b[39mrestype \u001b[38;5;241m=\u001b[39m ctypes\u001b[38;5;241m.\u001b[39mc_char_p\n\u001b[0;32m--> 646\u001b[0m config \u001b[38;5;241m=\u001b[39m \u001b[43mget_config\u001b[49m\u001b[43m(\u001b[49m\u001b[43m)\u001b[49m\u001b[38;5;241;43m.\u001b[39;49m\u001b[43msplit\u001b[49m()\n\u001b[1;32m    647\u001b[0m \u001b[38;5;28;01mif\u001b[39;00m config[\u001b[38;5;241m0\u001b[39m] \u001b[38;5;241m==\u001b[39m \u001b[38;5;124mb\u001b[39m\u001b[38;5;124m\"\u001b[39m\u001b[38;5;124mOpenBLAS\u001b[39m\u001b[38;5;124m\"\u001b[39m:\n\u001b[1;32m    648\u001b[0m     \u001b[38;5;28;01mreturn\u001b[39;00m config[\u001b[38;5;241m1\u001b[39m]\u001b[38;5;241m.\u001b[39mdecode(\u001b[38;5;124m\"\u001b[39m\u001b[38;5;124mutf-8\u001b[39m\u001b[38;5;124m\"\u001b[39m)\n",
      "\u001b[0;31mAttributeError\u001b[0m: 'NoneType' object has no attribute 'split'"
     ]
    }
   ],
   "source": [
    "def voting_regressor(x_train, x_test, y_train, y_test):\n",
    "    r1 = LinearRegression()\n",
    "    r2 = RandomForestRegressor(n_estimators=10)\n",
    "    r3 = KNeighborsRegressor()\n",
    "    X = x_train\n",
    "    y = y_train\n",
    "    er = VotingRegressor([('lr', r1), ('rf', r2), ('r3', r3)])\n",
    "    er = er.fit(X, y)\n",
    "    \n",
    "\n",
    "    test_predictions = er.predict(x_test)\n",
    "    train_predictions = er.predict(x_train)\n",
    "    res = linregress(y_test, test_predictions)\n",
    "\n",
    "    plt.figure(figsize=(6,6))\n",
    "    plt.scatter(y_test, test_predictions)\n",
    "    plt.scatter(y_train, train_predictions)\n",
    "    # plt.xlabel('True Values [mc]')\n",
    "    # plt.ylabel('Predictions [mc]')\n",
    "    plt.xlabel('L1 True average of DNA volume')\n",
    "    plt.ylabel('L1 Prediction of DNA volume average')\n",
    "    plt.axis('equal')\n",
    "    plt.axis('square')\n",
    "    plt.xlim([0,20])\n",
    "    plt.ylim([0,20])\n",
    "    _ = plt.plot([0,20], [0,20])\n",
    "\n",
    "    plt.plot([0,20], res.intercept + res.slope*np.array([0, 20]), 'r', label='fitted line')\n",
    "\n",
    "        # Save the model\n",
    "    #with open('../saved_model/randomforest_model_l1.pkl', 'wb') as f:\n",
    "    #    pickle.dump(regr, f)\n",
    "voting_regressor(x_train, x_test, y_train, y_test)"
   ]
  },
  {
   "cell_type": "code",
   "execution_count": 24,
   "metadata": {},
   "outputs": [
    {
     "name": "stdout",
     "output_type": "stream",
     "text": [
      "Requirement already satisfied: pip in /Users/hyakuzukamaya/opt/anaconda3/lib/python3.9/site-packages (24.0)\n"
     ]
    }
   ],
   "source": [
    "!pip install --upgrade pip"
   ]
  },
  {
   "cell_type": "code",
   "execution_count": 13,
   "metadata": {},
   "outputs": [
    {
     "name": "stdout",
     "output_type": "stream",
     "text": [
      "\u001b[31mERROR: Could not find a version that satisfies the requirement scikit-learn==1.4.1.post (from versions: 0.9, 0.10, 0.11, 0.12, 0.12.1, 0.13, 0.13.1, 0.14, 0.14.1, 0.15.0, 0.15.1, 0.15.2, 0.16.0, 0.16.1, 0.17, 0.17.1, 0.18, 0.18.1, 0.18.2, 0.19.0, 0.19.1, 0.19.2, 0.20.0, 0.20.1, 0.20.2, 0.20.3, 0.20.4, 0.21.1, 0.21.2, 0.21.3, 0.22, 0.22.1, 0.22.2.post1, 0.23.0, 0.23.1, 0.23.2, 0.24.0, 0.24.1, 0.24.2, 1.0, 1.0.1, 1.0.2, 1.1.0, 1.1.1, 1.1.2, 1.1.3, 1.2.0rc1, 1.2.0, 1.2.1, 1.2.2, 1.3.0rc1, 1.3.0, 1.3.1, 1.3.2, 1.4.0rc1, 1.4.0, 1.4.1.post1, 1.4.2)\u001b[0m\u001b[31m\n",
      "\u001b[0m\u001b[31mERROR: No matching distribution found for scikit-learn==1.4.1.post\u001b[0m\u001b[31m\n",
      "\u001b[0m"
     ]
    }
   ],
   "source": [
    "!pip3 install scikit-learn==1.4.1.post"
   ]
  },
  {
   "cell_type": "code",
   "execution_count": 102,
   "metadata": {},
   "outputs": [],
   "source": [
    "## これ！！\n",
    "\n",
    "def bagging_regressor(x_train,x_test,y_train,y_test):\n",
    "    X = x_train\n",
    "    y = y_train\n",
    "    er = BaggingRegressor(estimator=RandomForestRegressor(n_estimators=10),n_estimators=10)\n",
    "    er = er.fit(X, y)\n",
    "\n",
    "        # Save the model\n",
    "    with open('../saved_model/bagging_model_L1_initial.pkl', 'wb') as f:\n",
    "        pickle.dump(er, f)\n",
    "    \n",
    "\n",
    "    test_predictions = er.predict(x_test)\n",
    "    train_predictions = er.predict(x_train)\n",
    "    res = linregress(y_test, test_predictions)\n",
    "\n",
    "    max_lim = 45\n",
    "\n",
    "    plt.figure(figsize=(6,6))\n",
    "    plt.scatter(y_train, train_predictions)\n",
    "    plt.scatter(y_test, test_predictions)\n",
    "    # plt.xlabel('True Values [mc]')\n",
    "    # plt.ylabel('Predictions [mc]')\n",
    "    plt.xlabel('L1 True average of DNA volume')\n",
    "    plt.ylabel('L1 Prediction of DNA volume average')\n",
    "    plt.axis('equal')\n",
    "    plt.axis('square')\n",
    "    plt.xlim([0,max_lim])\n",
    "    plt.ylim([0,max_lim])\n",
    "    _ = plt.plot([0,max_lim], [0,max_lim])\n",
    "\n",
    "    print(er.score(x_test, y_test))\n",
    "\n",
    "    \n",
    "\n",
    "    plt.plot([0,max_lim], res.intercept + res.slope*np.array([0, max_lim]), 'r', label='fitted line')"
   ]
  },
  {
   "cell_type": "code",
   "execution_count": 103,
   "metadata": {},
   "outputs": [
    {
     "name": "stdout",
     "output_type": "stream",
     "text": [
      "0.5576582157789448\n"
     ]
    },
    {
     "data": {
      "image/png": "[encoded data removed]",
      "text/plain": [
       "<Figure size 600x600 with 1 Axes>"
      ]
     },
     "metadata": {},
     "output_type": "display_data"
    }
   ],
   "source": [
    "bagging_regressor(x_train, x_test, y_train, y_test)"
   ]
  },
  {
   "cell_type": "code",
   "execution_count": null,
   "metadata": {},
   "outputs": [],
   "source": []
  },
  {
   "cell_type": "code",
   "execution_count": null,
   "metadata": {},
   "outputs": [],
   "source": []
  }
 ],
 "metadata": {
  "kernelspec": {
   "display_name": "base",
   "language": "python",
   "name": "python3"
  },
  "language_info": {
   "codemirror_mode": {
    "name": "ipython",
    "version": 3
   },
   "file_extension": ".py",
   "mimetype": "text/x-python",
   "name": "python",
   "nbconvert_exporter": "python",
   "pygments_lexer": "ipython3",
   "version": "3.10.9"
  },
  "vscode": {
   "interpreter": {
    "hash": "5e5f6d9a7f82cd92f07e7938d008a685454462d5ce7385d96edcda5cc017265d"
   }
  }
 },
 "nbformat": 4,
 "nbformat_minor": 4
}
